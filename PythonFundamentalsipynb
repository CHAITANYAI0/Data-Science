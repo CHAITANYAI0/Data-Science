{
  "nbformat": 4,
  "nbformat_minor": 0,
  "metadata": {
    "colab": {
      "provenance": []
    },
    "kernelspec": {
      "name": "python3",
      "display_name": "Python 3"
    },
    "language_info": {
      "name": "python"
    },
    "accelerator": "GPU",
    "gpuClass": "standard"
  },
  "cells": [
    {
      "cell_type": "markdown",
      "source": [
        "** Basic Python Coding Fundamentals with Examples**\n",
        "\n"
      ],
      "metadata": {
        "id": "bGUFi02xoVfz"
      }
    },
    {
      "cell_type": "markdown",
      "source": [
        "1) Perform the following list operations:"
      ],
      "metadata": {
        "id": "mfFopiH7ood1"
      }
    },
    {
      "cell_type": "markdown",
      "source": [
        "a. maximum number in a list of numbers"
      ],
      "metadata": {
        "id": "UWNGzNRuoqZR"
      }
    },
    {
      "cell_type": "code",
      "source": [
        "Max_List = [-30,3,90,10,99,56,34]\n",
        "print(\"Maximum number in the list: \", max(Max_List))"
      ],
      "metadata": {
        "colab": {
          "base_uri": "https://localhost:8080/"
        },
        "id": "Ar-WAvdeoYI-",
        "outputId": "bc047277-2b5f-4411-9782-205ceaf2e274"
      },
      "execution_count": null,
      "outputs": [
        {
          "output_type": "stream",
          "name": "stdout",
          "text": [
            "Maximum number in the list:  99\n"
          ]
        }
      ]
    },
    {
      "cell_type": "markdown",
      "source": [
        "b. concatenate two lists"
      ],
      "metadata": {
        "id": "C-T5LjAHpDxB"
      }
    },
    {
      "cell_type": "code",
      "source": [
        "List_1 = [\"Apple\", \"Banana\", \"Cat\"]\n",
        "List_2 = [9,10,11]\n",
        "Concat_List = List_1 + List_2\n",
        "print(\"Concatenated list: \", Concat_List)"
      ],
      "metadata": {
        "colab": {
          "base_uri": "https://localhost:8080/"
        },
        "id": "x7G_Ujs8pGVC",
        "outputId": "266e9fb7-ac83-4bb2-899e-54bbd10375cb"
      },
      "execution_count": null,
      "outputs": [
        {
          "output_type": "stream",
          "name": "stdout",
          "text": [
            "Concatenated list:  ['Apple', 'Banana', 'Cat', 9, 10, 11]\n"
          ]
        }
      ]
    },
    {
      "cell_type": "markdown",
      "source": [
        "c. reverse a list"
      ],
      "metadata": {
        "id": "CQ-M3Jqopha-"
      }
    },
    {
      "cell_type": "code",
      "source": [
        "print(\"Original List:\",Concat_List)\n",
        "Reverse_List = Concat_List[::-1]\n",
        "print(\"Reversed list is: \", Reverse_List)"
      ],
      "metadata": {
        "colab": {
          "base_uri": "https://localhost:8080/"
        },
        "id": "h2zPkg7Rp2Na",
        "outputId": "c616e658-5612-4ad1-f486-3de3c2f3e007"
      },
      "execution_count": null,
      "outputs": [
        {
          "output_type": "stream",
          "name": "stdout",
          "text": [
            "Original List: ['Apple', 'Banana', 'Cat', 9, 10, 11]\n",
            "Reversed list is:  [11, 10, 9, 'Cat', 'Banana', 'Apple']\n"
          ]
        }
      ]
    },
    {
      "cell_type": "markdown",
      "source": [
        "d. interchange the first and the last elements in a list"
      ],
      "metadata": {
        "id": "5Tyello9p_c0"
      }
    },
    {
      "cell_type": "code",
      "source": [
        "print(\"Original List:\",Concat_List)\n",
        "First = Concat_List[0] \n",
        "Concat_List[0] = Concat_List[-1]\n",
        "Concat_List[-1] = First\n",
        "print(\"Interchanged list is: \", Concat_List)"
      ],
      "metadata": {
        "colab": {
          "base_uri": "https://localhost:8080/"
        },
        "id": "5mOcGnJ4qAP7",
        "outputId": "9248305d-96cf-4248-f3bd-e74c14fa6e80"
      },
      "execution_count": null,
      "outputs": [
        {
          "output_type": "stream",
          "name": "stdout",
          "text": [
            "Original List: [11, 'Banana', 'Cat', 9, 10, 'Apple']\n",
            "Interchanged list is:  ['Apple', 'Banana', 'Cat', 9, 10, 11]\n"
          ]
        }
      ]
    },
    {
      "cell_type": "markdown",
      "source": [
        "e. search if a given string is a substring of a list of strings"
      ],
      "metadata": {
        "id": "QbhRQRXtqgNv"
      }
    },
    {
      "cell_type": "code",
      "source": [
        "print(List_1)\n",
        "input_string = input(\"Enter a string to search: \")\n",
        "j = 0\n",
        "for i in List_1:\n",
        "    if( input_string == i):\n",
        "      print(input_string,\"Presnt in List of Strings\")\n",
        "      break\n",
        "    else:\n",
        "      print(input_string,\"is not Presnt in List of Strings\")\n",
        "      break"
      ],
      "metadata": {
        "colab": {
          "base_uri": "https://localhost:8080/"
        },
        "id": "bm0vqHchqiec",
        "outputId": "121b1f2a-e2c3-45ac-ded5-3c3b40fa1a92"
      },
      "execution_count": null,
      "outputs": [
        {
          "output_type": "stream",
          "name": "stdout",
          "text": [
            "Enter a string to search: hat\n",
            "['Apple', 'Banana', 'Cat']\n",
            "hat is not Presnt in List of Strings\n"
          ]
        }
      ]
    },
    {
      "cell_type": "markdown",
      "source": [
        "2) Write a Python program to delete an element from a list by index. "
      ],
      "metadata": {
        "id": "_jtzGAHMt-Z-"
      }
    },
    {
      "cell_type": "code",
      "source": [
        "print(List_2)\n",
        "input_index = int(input(\"Enter an element index to delete: \"))\n",
        "del List_2[input_index]\n",
        "print(\"Updated List: \",List_2)"
      ],
      "metadata": {
        "colab": {
          "base_uri": "https://localhost:8080/"
        },
        "id": "K2tJNPeduGDQ",
        "outputId": "04774dea-1a98-4e16-ef66-81bc2c33af90"
      },
      "execution_count": null,
      "outputs": [
        {
          "output_type": "stream",
          "name": "stdout",
          "text": [
            "[9, 10, 11]\n",
            "Enter an element index to delete: 1\n",
            "Updated List:  [9, 11]\n"
          ]
        }
      ]
    },
    {
      "cell_type": "markdown",
      "source": [
        "3) Write a Python program to check whether the given number is even or not."
      ],
      "metadata": {
        "id": "W9PepCEKvM5d"
      }
    },
    {
      "cell_type": "code",
      "source": [
        "n = int(input(\"Enter an integer to check: \"))\n",
        "if(n%2==0):\n",
        "  print(n,\" is even\")\n",
        "else:\n",
        "  print(n,\" is not even\")"
      ],
      "metadata": {
        "colab": {
          "base_uri": "https://localhost:8080/"
        },
        "id": "jhDuqeo9vP5U",
        "outputId": "72b2e595-f8d1-492e-b7c1-7131ea90c3ce"
      },
      "execution_count": null,
      "outputs": [
        {
          "output_type": "stream",
          "name": "stdout",
          "text": [
            "Enter an integer to check: 100\n",
            "100  is even\n"
          ]
        }
      ]
    },
    {
      "cell_type": "markdown",
      "source": [
        "4) Write a program which can compute the factorial of a given number. \n",
        "Make sure to take into account the exceptions like a negative number. "
      ],
      "metadata": {
        "id": "qfkKU-gMvqbI"
      }
    },
    {
      "cell_type": "code",
      "source": [
        "n = int(input(\"Enter an integer to finf factorial: \"))\n",
        "fact = 1\n",
        "if isinstance(n, int):\n",
        "  if n < 0:\n",
        "   print(\"please enter positive number\")\n",
        "  else:\n",
        "    for i in range(1,n + 1):\n",
        "       fact = fact*i\n",
        "print(\"The factorial of\",n,\"is\",fact)\n"
      ],
      "metadata": {
        "colab": {
          "base_uri": "https://localhost:8080/"
        },
        "id": "Sym20I9rvvAo",
        "outputId": "bc048475-97ca-4943-8cb5-7bbaeb1a1ad4"
      },
      "execution_count": null,
      "outputs": [
        {
          "output_type": "stream",
          "name": "stdout",
          "text": [
            "Enter an integer to finf factorial: 1\n",
            "The factorial of 1 is 1\n"
          ]
        }
      ]
    },
    {
      "cell_type": "markdown",
      "source": [
        "5) Write a Python program to create a dictionary and display both the keys and values sorted in alphabetical order by the key. "
      ],
      "metadata": {
        "id": "qIL0bACMw4g0"
      }
    },
    {
      "cell_type": "code",
      "source": [
        "Dict = {\"Name\": \"Chaitnya\",\"Country\": \"India\",\"University\": \"Northeastern\"}\n",
        "print(\"Sorted dictionary is: \")\n",
        "for i in sorted(Dict):\n",
        "  print(i,\":\",Dict[i])"
      ],
      "metadata": {
        "colab": {
          "base_uri": "https://localhost:8080/"
        },
        "id": "tOQMOfxLw7ZF",
        "outputId": "494a6223-ad4c-4320-8f40-29ac258a4b4c"
      },
      "execution_count": null,
      "outputs": [
        {
          "output_type": "stream",
          "name": "stdout",
          "text": [
            "Sorted dictionary is: \n",
            "Country : India\n",
            "Name : Chaitnya\n",
            "University : Northeastern\n"
          ]
        }
      ]
    },
    {
      "cell_type": "markdown",
      "source": [
        "6) Write a lambda function to compute log values of only positive numbers, else return “Invalid”. "
      ],
      "metadata": {
        "id": "jL6MG5e4xwxH"
      }
    },
    {
      "cell_type": "code",
      "source": [
        "import math\n",
        "def LambdaFunc(n):\n",
        "    if n < 0 :\n",
        "        return \"Invalid\"\n",
        "    else :\n",
        "        log = lambda a : math.log(a)\n",
        "        return log(n)\n",
        "    \n",
        "print(\"Log value of\", n, \"is\", LambdaFunc(n))"
      ],
      "metadata": {
        "colab": {
          "base_uri": "https://localhost:8080/"
        },
        "id": "JxaKZUvUxy8W",
        "outputId": "ee12b418-83e0-40ca-ceab-ac9b8c90dfe7"
      },
      "execution_count": null,
      "outputs": [
        {
          "output_type": "stream",
          "name": "stdout",
          "text": [
            "Log value of 1 is 0.0\n"
          ]
        }
      ]
    },
    {
      "cell_type": "markdown",
      "source": [
        "7) Write a function to add elements of two input matrices. "
      ],
      "metadata": {
        "id": "LjWsibcizUnV"
      }
    },
    {
      "cell_type": "code",
      "source": [
        "def matriceAddition():\n",
        "    m1 = [[100,20,30],[30,20,11]]\n",
        "    m2 = [[5,5,5],[1,1,3]]\n",
        "    m3 = [[0,0,0],[0,0,0]]\n",
        "    for i in range(len(m1)):\n",
        "        for j in range(len(m1[0])):\n",
        "            m3[i][j] = m1[i][j] + m2[i][j]\n",
        "    return m3\n",
        "\n",
        "for i in matriceAddition():\n",
        "    print(i)"
      ],
      "metadata": {
        "colab": {
          "base_uri": "https://localhost:8080/"
        },
        "id": "NgoVtFxCzWkh",
        "outputId": "c955148f-d02b-464d-a1a6-28a11ea6761d"
      },
      "execution_count": null,
      "outputs": [
        {
          "output_type": "stream",
          "name": "stdout",
          "text": [
            "[105, 25, 35]\n",
            "[31, 21, 14]\n"
          ]
        }
      ]
    },
    {
      "cell_type": "markdown",
      "source": [
        "8) Create your own Pandas dataframe df with three columns and a dozen rows. Do the following operations:"
      ],
      "metadata": {
        "id": "pVtsGtYL1cvN"
      }
    },
    {
      "cell_type": "code",
      "source": [
        "import pandas as pd\n",
        "from cmath import nan\n",
        "def createDF():\n",
        "    data = {\n",
        "        \"Name\" : [\"Chaitanya\", \"Rutuja\", \"Shreyas\", \"Saloni\", \"Shivani\", \"Swarmyee\", \"Vaibhavi\", \"Madhura\", \"Rohan\", nan, \"Don\", \"Mia\"],\n",
        "        \"SSN\" : [1234, 4321, 9999, 1111, 0000, 5678, 8765, 1901, 1091, 2022, 2890, nan],\n",
        "        \"University\" : [\"NEU\",\"NEU\", nan, \"UMASS\", \"DREXEL\", \"BU\", \"BC\", \"BU\", \"UMASS\", \"Harvard\", \"MIT\", \"MIT\"]}\n",
        "    df = pd.DataFrame(data)\n",
        "    print(len(df.index))\n",
        "    return df\n",
        "dataFrame = createDF()\n",
        "print(\"Dataframe : \\n\", dataFrame)"
      ],
      "metadata": {
        "colab": {
          "base_uri": "https://localhost:8080/"
        },
        "id": "3lQKkYtF2EIS",
        "outputId": "cc9ec994-e930-4f19-b0f0-8884f5f1c918"
      },
      "execution_count": null,
      "outputs": [
        {
          "output_type": "stream",
          "name": "stdout",
          "text": [
            "12\n",
            "Dataframe : \n",
            "          Name     SSN University\n",
            "0   Chaitanya  1234.0        NEU\n",
            "1      Rutuja  4321.0        NEU\n",
            "2     Shreyas  9999.0        NaN\n",
            "3      Saloni  1111.0      UMASS\n",
            "4     Shivani     0.0     DREXEL\n",
            "5    Swarmyee  5678.0         BU\n",
            "6    Vaibhavi  8765.0         BC\n",
            "7     Madhura  1901.0         BU\n",
            "8       Rohan  1091.0      UMASS\n",
            "9         NaN  2022.0    Harvard\n",
            "10        Don  2890.0        MIT\n",
            "11        Mia     NaN        MIT\n"
          ]
        }
      ]
    },
    {
      "cell_type": "markdown",
      "source": [
        "• Insert a new column to df. "
      ],
      "metadata": {
        "id": "74Uu97_F4QK1"
      }
    },
    {
      "cell_type": "code",
      "source": [
        "address = ['Huntington', 'Fenway', 'Didham', 'Cambridge','Waltham','Burlington','Huntington','Fenway','Didham','Waltham','Cambridge','Park Drive'] \n",
        "dataFrame['Address'] = address \n",
        "print(dataFrame) "
      ],
      "metadata": {
        "colab": {
          "base_uri": "https://localhost:8080/"
        },
        "id": "ZY7F7C4-4Q2i",
        "outputId": "415d220b-92d5-43f1-b07a-f7fe54058844"
      },
      "execution_count": null,
      "outputs": [
        {
          "output_type": "stream",
          "name": "stdout",
          "text": [
            "         Name     SSN University     Address\n",
            "0   Chaitanya  1234.0        NEU  Huntington\n",
            "1      Rutuja  4321.0        NEU      Fenway\n",
            "2     Shreyas  9999.0        NaN      Didham\n",
            "3      Saloni  1111.0      UMASS   Cambridge\n",
            "4     Shivani     0.0     DREXEL     Waltham\n",
            "5    Swarmyee  5678.0         BU  Burlington\n",
            "6    Vaibhavi  8765.0         BC  Huntington\n",
            "7     Madhura  1901.0         BU      Fenway\n",
            "8       Rohan  1091.0      UMASS      Didham\n",
            "9         NaN  2022.0    Harvard     Waltham\n",
            "10        Don  2890.0        MIT   Cambridge\n",
            "11        Mia     NaN        MIT  Park Drive\n"
          ]
        }
      ]
    },
    {
      "cell_type": "markdown",
      "source": [
        "• Add a new tuple to df. "
      ],
      "metadata": {
        "id": "0CSnO8N15Q_g"
      }
    },
    {
      "cell_type": "code",
      "source": [
        "data_tuple = (\"Raj\", 8888, \"NEU\",\"Fenway\") \n",
        "\n",
        "dataFrame.loc[len(dataFrame.index)] = data_tuple\n",
        "  \n",
        "print(dataFrame)  "
      ],
      "metadata": {
        "colab": {
          "base_uri": "https://localhost:8080/"
        },
        "id": "8nAwH3jx5TfB",
        "outputId": "0caa8d96-9310-45ad-8e40-a5e334a5d8d5"
      },
      "execution_count": null,
      "outputs": [
        {
          "output_type": "stream",
          "name": "stdout",
          "text": [
            "         Name     SSN University     Address\n",
            "0   Chaitanya  1234.0        NEU  Huntington\n",
            "1      Rutuja  4321.0        NEU      Fenway\n",
            "2     Shreyas  9999.0        NaN      Didham\n",
            "3      Saloni  1111.0      UMASS   Cambridge\n",
            "4     Shivani     0.0     DREXEL     Waltham\n",
            "5    Swarmyee  5678.0         BU  Burlington\n",
            "6    Vaibhavi  8765.0         BC  Huntington\n",
            "7     Madhura  1901.0         BU      Fenway\n",
            "8       Rohan  1091.0      UMASS      Didham\n",
            "9         NaN  2022.0    Harvard     Waltham\n",
            "10        Don  2890.0        MIT   Cambridge\n",
            "11        Mia     NaN        MIT  Park Drive\n",
            "12        Raj  8888.0        NEU      Fenway\n"
          ]
        }
      ]
    },
    {
      "cell_type": "markdown",
      "source": [
        "• Iterate over the rows of df and display. "
      ],
      "metadata": {
        "id": "O6_pHuys6kSv"
      }
    },
    {
      "cell_type": "code",
      "source": [
        "print(\"Iterating the dataFrame over rows\")\n",
        "print()\n",
        "for i,j in dataFrame.iterrows():\n",
        "  print(i,j)\n",
        "  print()\n",
        "\n"
      ],
      "metadata": {
        "colab": {
          "base_uri": "https://localhost:8080/"
        },
        "id": "3zshyz9_6mh9",
        "outputId": "af28bf99-2888-4f3c-b3c4-93fd8c115a66"
      },
      "execution_count": null,
      "outputs": [
        {
          "output_type": "stream",
          "name": "stdout",
          "text": [
            "Iterating the dataFrame over rows\n",
            "\n",
            "0 Name           Chaitanya\n",
            "SSN               1234.0\n",
            "University           NEU\n",
            "Address       Huntington\n",
            "Name: 0, dtype: object\n",
            "\n",
            "1 Name          Rutuja\n",
            "SSN           4321.0\n",
            "University       NEU\n",
            "Address       Fenway\n",
            "Name: 1, dtype: object\n",
            "\n",
            "2 Name          Shreyas\n",
            "SSN            9999.0\n",
            "University        NaN\n",
            "Address        Didham\n",
            "Name: 2, dtype: object\n",
            "\n",
            "3 Name             Saloni\n",
            "SSN              1111.0\n",
            "University        UMASS\n",
            "Address       Cambridge\n",
            "Name: 3, dtype: object\n",
            "\n",
            "4 Name          Shivani\n",
            "SSN               0.0\n",
            "University     DREXEL\n",
            "Address       Waltham\n",
            "Name: 4, dtype: object\n",
            "\n",
            "5 Name            Swarmyee\n",
            "SSN               5678.0\n",
            "University            BU\n",
            "Address       Burlington\n",
            "Name: 5, dtype: object\n",
            "\n",
            "6 Name            Vaibhavi\n",
            "SSN               8765.0\n",
            "University            BC\n",
            "Address       Huntington\n",
            "Name: 6, dtype: object\n",
            "\n",
            "7 Name          Madhura\n",
            "SSN            1901.0\n",
            "University         BU\n",
            "Address        Fenway\n",
            "Name: 7, dtype: object\n",
            "\n",
            "8 Name           Rohan\n",
            "SSN           1091.0\n",
            "University     UMASS\n",
            "Address       Didham\n",
            "Name: 8, dtype: object\n",
            "\n",
            "9 Name              NaN\n",
            "SSN            2022.0\n",
            "University    Harvard\n",
            "Address       Waltham\n",
            "Name: 9, dtype: object\n",
            "\n",
            "10 Name                Don\n",
            "SSN              2890.0\n",
            "University          MIT\n",
            "Address       Cambridge\n",
            "Name: 10, dtype: object\n",
            "\n",
            "11 Name                 Mia\n",
            "SSN                  NaN\n",
            "University           MIT\n",
            "Address       Park Drive\n",
            "Name: 11, dtype: object\n",
            "\n",
            "12 Name             Raj\n",
            "SSN           8888.0\n",
            "University       NEU\n",
            "Address       Fenway\n",
            "Name: 12, dtype: object\n",
            "\n"
          ]
        }
      ]
    },
    {
      "cell_type": "markdown",
      "source": [
        "• Display the column names of df. "
      ],
      "metadata": {
        "id": "BkPl03vZ7Eox"
      }
    },
    {
      "cell_type": "code",
      "source": [
        "for columnName in dataFrame.columns:\n",
        "  print(columnName)\n"
      ],
      "metadata": {
        "colab": {
          "base_uri": "https://localhost:8080/"
        },
        "id": "Z7l-Lih57HPu",
        "outputId": "a63c591d-dc9c-4b7c-da7d-a492b53c0c8c"
      },
      "execution_count": null,
      "outputs": [
        {
          "output_type": "stream",
          "name": "stdout",
          "text": [
            "Name\n",
            "SSN\n",
            "University\n",
            "Address\n"
          ]
        }
      ]
    },
    {
      "cell_type": "markdown",
      "source": [
        "• Drop a list of rows based on some criterion applied to the first column (e.g., if the first column is an integer column then all rows with values of the first column greater than 25). "
      ],
      "metadata": {
        "id": "Yc9N_P0Q8B-e"
      }
    },
    {
      "cell_type": "code",
      "source": [
        "for i,j in dataFrame.iterrows():\n",
        "  if dataFrame.loc[ i, \"Name\"] == \"Vaibhavi\":\n",
        "    df = dataFrame.drop(i)\n",
        "    df = df.reset_index(drop=True)\n",
        "\n",
        "print(\"Original Datafram: \\n\",dataFrame)\n",
        "print(\"\\n\")\n",
        "print(\"DataFrame after applying condition: \\n\", df)\n",
        "  "
      ],
      "metadata": {
        "colab": {
          "base_uri": "https://localhost:8080/"
        },
        "id": "dmYWSie_8Fzy",
        "outputId": "383ae472-e2c4-4929-bc86-2ef8057f8224"
      },
      "execution_count": null,
      "outputs": [
        {
          "output_type": "stream",
          "name": "stdout",
          "text": [
            "Original Datafram: \n",
            "          Name     SSN University     Address\n",
            "0   Chaitanya  1234.0        NEU  Huntington\n",
            "1      Rutuja  4321.0        NEU      Fenway\n",
            "2     Shreyas  9999.0        NaN      Didham\n",
            "3      Saloni  1111.0      UMASS   Cambridge\n",
            "4     Shivani     0.0     DREXEL     Waltham\n",
            "5    Swarmyee  5678.0         BU  Burlington\n",
            "6    Vaibhavi  8765.0         BC  Huntington\n",
            "7     Madhura  1901.0         BU      Fenway\n",
            "8       Rohan  1091.0      UMASS      Didham\n",
            "9         NaN  2022.0    Harvard     Waltham\n",
            "10        Don  2890.0        MIT   Cambridge\n",
            "11        Mia     NaN        MIT  Park Drive\n",
            "12        Raj  8888.0        NEU      Fenway\n",
            "\n",
            "\n",
            "DataFrame after applying condition: \n",
            "          Name     SSN University     Address\n",
            "0   Chaitanya  1234.0        NEU  Huntington\n",
            "1      Rutuja  4321.0        NEU      Fenway\n",
            "2     Shreyas  9999.0        NaN      Didham\n",
            "3      Saloni  1111.0      UMASS   Cambridge\n",
            "4     Shivani     0.0     DREXEL     Waltham\n",
            "5    Swarmyee  5678.0         BU  Burlington\n",
            "6     Madhura  1901.0         BU      Fenway\n",
            "7       Rohan  1091.0      UMASS      Didham\n",
            "8         NaN  2022.0    Harvard     Waltham\n",
            "9         Don  2890.0        MIT   Cambridge\n",
            "10        Mia     NaN        MIT  Park Drive\n",
            "11        Raj  8888.0        NEU      Fenway\n"
          ]
        }
      ]
    },
    {
      "cell_type": "markdown",
      "source": [
        "• Export df into an excel file and then import from the same. "
      ],
      "metadata": {
        "id": "pMHP8JWZ84wO"
      }
    },
    {
      "cell_type": "code",
      "source": [
        "fileName = \"DFData.xlsx\"\n",
        "df.to_excel(fileName)\n",
        "print(\"Data exported to Excel\")"
      ],
      "metadata": {
        "colab": {
          "base_uri": "https://localhost:8080/"
        },
        "id": "p1cwdvtb9FKa",
        "outputId": "bf3a147b-5fc6-466a-fbe6-a14d2ca1a528"
      },
      "execution_count": null,
      "outputs": [
        {
          "output_type": "stream",
          "name": "stdout",
          "text": [
            "Data exported to Excel\n"
          ]
        }
      ]
    },
    {
      "cell_type": "code",
      "source": [
        "imported_DF = pd.read_excel(\"DFData.xlsx\", index_col=[0])\n",
        "print(\"Data imported from Excelof Dataframe\")\n",
        "print(imported_DF)"
      ],
      "metadata": {
        "colab": {
          "base_uri": "https://localhost:8080/"
        },
        "id": "fuhK0QPi9bnu",
        "outputId": "21fb8650-4793-401f-82c7-6a5bacfd0716"
      },
      "execution_count": null,
      "outputs": [
        {
          "output_type": "stream",
          "name": "stdout",
          "text": [
            "Data imported from Excelof Dataframe\n",
            "         Name     SSN University     Address\n",
            "0   Chaitanya  1234.0        NEU  Huntington\n",
            "1      Rutuja  4321.0        NEU      Fenway\n",
            "2     Shreyas  9999.0        NaN      Didham\n",
            "3      Saloni  1111.0      UMASS   Cambridge\n",
            "4     Shivani     0.0     DREXEL     Waltham\n",
            "5    Swarmyee  5678.0         BU  Burlington\n",
            "6     Madhura  1901.0         BU      Fenway\n",
            "7       Rohan  1091.0      UMASS      Didham\n",
            "8         NaN  2022.0    Harvard     Waltham\n",
            "9         Don  2890.0        MIT   Cambridge\n",
            "10        Mia     NaN        MIT  Park Drive\n",
            "11        Raj  8888.0        NEU      Fenway\n"
          ]
        }
      ]
    },
    {
      "cell_type": "markdown",
      "source": [
        "• Replace all the NaN values with zeros in a column of df. "
      ],
      "metadata": {
        "id": "Bm1QzlZw9mp-"
      }
    },
    {
      "cell_type": "code",
      "source": [
        "Updated_df = dataFrame.fillna(0)\n",
        "print(\"Original Datafram: \\n\",dataFrame)\n",
        "print(\"\\n\")\n",
        "print(\"Updated Dataframe after replacing NaN: \\n\",Updated_df)\n"
      ],
      "metadata": {
        "colab": {
          "base_uri": "https://localhost:8080/"
        },
        "id": "DHIJYU799pRr",
        "outputId": "d51717aa-538c-403b-d1ad-bfdda1fe99ea"
      },
      "execution_count": null,
      "outputs": [
        {
          "output_type": "stream",
          "name": "stdout",
          "text": [
            "Original Datafram: \n",
            "          Name     SSN University     Address\n",
            "0   Chaitanya  1234.0        NEU  Huntington\n",
            "1      Rutuja  4321.0        NEU      Fenway\n",
            "2     Shreyas  9999.0        NaN      Didham\n",
            "3      Saloni  1111.0      UMASS   Cambridge\n",
            "4     Shivani     0.0     DREXEL     Waltham\n",
            "5    Swarmyee  5678.0         BU  Burlington\n",
            "6    Vaibhavi  8765.0         BC  Huntington\n",
            "7     Madhura  1901.0         BU      Fenway\n",
            "8       Rohan  1091.0      UMASS      Didham\n",
            "9         NaN  2022.0    Harvard     Waltham\n",
            "10        Don  2890.0        MIT   Cambridge\n",
            "11        Mia     NaN        MIT  Park Drive\n",
            "12        Raj  8888.0        NEU      Fenway\n",
            "\n",
            "\n",
            "Updated Dataframe after replacing NaN: \n",
            "          Name     SSN University     Address\n",
            "0   Chaitanya  1234.0        NEU  Huntington\n",
            "1      Rutuja  4321.0        NEU      Fenway\n",
            "2     Shreyas  9999.0          0      Didham\n",
            "3      Saloni  1111.0      UMASS   Cambridge\n",
            "4     Shivani     0.0     DREXEL     Waltham\n",
            "5    Swarmyee  5678.0         BU  Burlington\n",
            "6    Vaibhavi  8765.0         BC  Huntington\n",
            "7     Madhura  1901.0         BU      Fenway\n",
            "8       Rohan  1091.0      UMASS      Didham\n",
            "9           0  2022.0    Harvard     Waltham\n",
            "10        Don  2890.0        MIT   Cambridge\n",
            "11        Mia     0.0        MIT  Park Drive\n",
            "12        Raj  8888.0        NEU      Fenway\n"
          ]
        }
      ]
    },
    {
      "cell_type": "markdown",
      "source": [
        "• Set a given value for a particular cell in df. "
      ],
      "metadata": {
        "id": "AeuDzAPF1iEn"
      }
    },
    {
      "cell_type": "code",
      "source": [
        "dataFrame.at[1, \"SSN\"] = 2000\n",
        "print(\"\\n\")\n",
        "print(\"DataFrame after replacing: \\n\", dataFrame)"
      ],
      "metadata": {
        "colab": {
          "base_uri": "https://localhost:8080/"
        },
        "id": "h5OwxJLN_SA3",
        "outputId": "b4f95ed7-342f-4108-bb0b-5a06188500fc"
      },
      "execution_count": null,
      "outputs": [
        {
          "output_type": "stream",
          "name": "stdout",
          "text": [
            "\n",
            "\n",
            "DataFrame after replacing: \n",
            "          Name     SSN University     Address\n",
            "0   Chaitanya  1234.0        NEU  Huntington\n",
            "1      Rutuja  2000.0        NEU      Fenway\n",
            "2     Shreyas  9999.0        NaN      Didham\n",
            "3      Saloni  1111.0      UMASS   Cambridge\n",
            "4     Shivani     0.0     DREXEL     Waltham\n",
            "5    Swarmyee  5678.0         BU  Burlington\n",
            "6    Vaibhavi  8765.0         BC  Huntington\n",
            "7     Madhura  1901.0         BU      Fenway\n",
            "8       Rohan  1091.0      UMASS      Didham\n",
            "9         NaN  2022.0    Harvard     Waltham\n",
            "10        Don  2890.0        MIT   Cambridge\n",
            "11        Mia     NaN        MIT  Park Drive\n",
            "12        Raj  8888.0        NEU      Fenway\n"
          ]
        }
      ]
    },
    {
      "cell_type": "markdown",
      "source": [
        "• Divide df into in a given ratio. "
      ],
      "metadata": {
        "id": "j-YeKFjCvmOo"
      }
    },
    {
      "cell_type": "code",
      "source": [
        "df = pd.DataFrame(dataFrame)\n",
        "print('Part A')\n",
        "part_50 = df.sample(frac=0.5)\n",
        "rest_50 = df.drop(part_50.index)\n",
        "print(part_50)\n",
        "print('\\nPart B')\n",
        "print(rest_50)"
      ],
      "metadata": {
        "colab": {
          "base_uri": "https://localhost:8080/"
        },
        "id": "Jz2Z3INlvm0d",
        "outputId": "33ea43be-8924-419f-a51f-64eb7901f017"
      },
      "execution_count": null,
      "outputs": [
        {
          "output_type": "stream",
          "name": "stdout",
          "text": [
            "Part A\n",
            "        Name     SSN University     Address\n",
            "7    Madhura  1901.0         BU      Fenway\n",
            "1     Rutuja  2000.0        NEU      Fenway\n",
            "10       Don  2890.0        MIT   Cambridge\n",
            "5   Swarmyee  5678.0         BU  Burlington\n",
            "9        NaN  2022.0    Harvard     Waltham\n",
            "12       Raj  8888.0        NEU      Fenway\n",
            "\n",
            "Part B\n",
            "         Name     SSN University     Address\n",
            "0   Chaitanya  1234.0        NEU  Huntington\n",
            "2     Shreyas  9999.0        NaN      Didham\n",
            "3      Saloni  1111.0      UMASS   Cambridge\n",
            "4     Shivani     0.0     DREXEL     Waltham\n",
            "6    Vaibhavi  8765.0         BC  Huntington\n",
            "8       Rohan  1091.0      UMASS      Didham\n",
            "11        Mia     NaN        MIT  Park Drive\n"
          ]
        }
      ]
    },
    {
      "cell_type": "markdown",
      "source": [
        "• Rename a specific column name. "
      ],
      "metadata": {
        "id": "zLdgv4-9wHiP"
      }
    },
    {
      "cell_type": "code",
      "source": [
        "dataFrame.rename(columns = {\"Name\" : 'First_Name'}, inplace = True)\n",
        "print(dataFrame.columns)\n",
        "print(\"\\n\")\n",
        "print(\"Updated DataFrame: \\n\",dataFrame)\n",
        "\n"
      ],
      "metadata": {
        "colab": {
          "base_uri": "https://localhost:8080/"
        },
        "id": "4rx8AbLbwJgS",
        "outputId": "adf8f615-82d4-45aa-ae57-1c79f1dabc5d"
      },
      "execution_count": null,
      "outputs": [
        {
          "output_type": "stream",
          "name": "stdout",
          "text": [
            "Index(['First_Name', 'SSN', 'University', 'Address'], dtype='object')\n",
            "\n",
            "\n",
            "Updated DataFrame: \n",
            "    First_Name     SSN University     Address\n",
            "0   Chaitanya  1234.0        NEU  Huntington\n",
            "1      Rutuja  2000.0        NEU      Fenway\n",
            "2     Shreyas  9999.0        NaN      Didham\n",
            "3      Saloni  1111.0      UMASS   Cambridge\n",
            "4     Shivani     0.0     DREXEL     Waltham\n",
            "5    Swarmyee  5678.0         BU  Burlington\n",
            "6    Vaibhavi  8765.0         BC  Huntington\n",
            "7     Madhura  1901.0         BU      Fenway\n",
            "8       Rohan  1091.0      UMASS      Didham\n",
            "9         NaN  2022.0    Harvard     Waltham\n",
            "10        Don  2890.0        MIT   Cambridge\n",
            "11        Mia     NaN        MIT  Park Drive\n",
            "12        Raj  8888.0        NEU      Fenway\n"
          ]
        }
      ]
    },
    {
      "cell_type": "markdown",
      "source": [
        "• Display the last three rows of df. "
      ],
      "metadata": {
        "id": "01mGUaeqw60D"
      }
    },
    {
      "cell_type": "code",
      "source": [
        "Df = Updated_df.iloc[-3::]\n",
        "print(\"Last three Rows of the dataframe: \\n\\n\",Df)"
      ],
      "metadata": {
        "colab": {
          "base_uri": "https://localhost:8080/"
        },
        "id": "uaDUAY8Cw-su",
        "outputId": "0a601dd6-47ac-4d64-a651-5b623e5c5cbd"
      },
      "execution_count": null,
      "outputs": [
        {
          "output_type": "stream",
          "name": "stdout",
          "text": [
            "Last three Rows of the dataframe: \n",
            "\n",
            "    Name     SSN University     Address\n",
            "10  Don  2890.0        MIT   Cambridge\n",
            "11  Mia     0.0        MIT  Park Drive\n",
            "12  Raj  8888.0        NEU      Fenway\n"
          ]
        }
      ]
    },
    {
      "cell_type": "markdown",
      "source": [
        "9) With a given list of numbers, write a program to print this list after removing all duplicate values \n",
        "with the original order reserved. "
      ],
      "metadata": {
        "id": "VW0CGCr3w8so"
      }
    },
    {
      "cell_type": "code",
      "source": [
        "Input_List = [1,2,5,7,7,8,9,1]\n",
        "print(\"Original List: \",Input_List)\n",
        "Output = []\n",
        "for i in Input_List:\n",
        "  if i not in Output:\n",
        "    Output.append(i)\n",
        "\n",
        "# If the reserved is correct\n",
        "print(\"List with Reserved Order with no duplicates: \",Output)\n",
        "\n",
        "# As I am confused if the reversed word misspelled as reserved.\n",
        "print(\"Reverse List with no duplicates: \",Output[::-1])\n",
        "\n"
      ],
      "metadata": {
        "colab": {
          "base_uri": "https://localhost:8080/"
        },
        "id": "S6SHRRpe5EeD",
        "outputId": "1eb0c4af-c149-4a1d-e7e7-b8771b8ef64e"
      },
      "execution_count": null,
      "outputs": [
        {
          "output_type": "stream",
          "name": "stdout",
          "text": [
            "Original List:  [1, 2, 5, 7, 7, 8, 9, 1]\n",
            "List with Reserved Order with no duplicates:  [1, 2, 5, 7, 8, 9]\n",
            "Reverse List with no duplicates:  [9, 8, 7, 5, 2, 1]\n"
          ]
        }
      ]
    },
    {
      "cell_type": "markdown",
      "source": [
        "10) Write a program which counts and prints the numbers of each character in a string input by console."
      ],
      "metadata": {
        "id": "aQpgBdPS5FCh"
      }
    },
    {
      "cell_type": "code",
      "source": [
        "Input_String = \"abcdefgabc\"\n",
        "print(Input_String)\n",
        "min = 0\n",
        "for i in range(0,len(Input_String)):\n",
        "  if min < len(Input_String):\n",
        "    count = 0\n",
        "    for j in range(0,len(Input_String)):\n",
        "      if(Input_String[i]==Input_String[j]):\n",
        "        count = count+1\n",
        "    print(Input_String[i],\":\",count)\n",
        "    min = min+count"
      ],
      "metadata": {
        "colab": {
          "base_uri": "https://localhost:8080/"
        },
        "id": "uOxOh7_WytiO",
        "outputId": "22c21e20-6f1f-4d4e-cf77-a9df397d9564"
      },
      "execution_count": null,
      "outputs": [
        {
          "output_type": "stream",
          "name": "stdout",
          "text": [
            "abcdefgabc\n",
            "a : 2\n",
            "b : 2\n",
            "c : 2\n",
            "d : 1\n",
            "e : 1\n",
            "f : 1\n",
            "g : 1\n"
          ]
        }
      ]
    },
    {
      "cell_type": "markdown",
      "source": [
        "11) Check if a given string is symmetrical and palindrome or not. A string is said to be symmetrical if both the halves of the string are the same and a string is said to be a palindrome string if one half of the string is the reverse of the other half or if a string appears same when read forward \n",
        "or backward. The string “malayalam” is palindrome, “byebye” is symmetrical. "
      ],
      "metadata": {
        "id": "P-G1nRDi56O9"
      }
    },
    {
      "cell_type": "code",
      "source": [
        "# For input string as byebye\n",
        "\n",
        "Input_String = \"byebye\"\n",
        "List1 = []\n",
        "for i in Input_String:\n",
        "  List1.append(i)\n",
        "mid = int(len(Input_String)/2)\n",
        "check = len(Input_String)%2\n",
        "if check != 0:\n",
        "  if(List1 == List1[::-1]):\n",
        "    print(Input_String,\" String is palindrome\")\n",
        "  else:\n",
        "    print(Input_String,\" String is not a palindrome\")\n",
        "elif check == 0:\n",
        "    FirstHalf = Input_String[:mid]\n",
        "    Rest = Input_String[mid:]\n",
        "    if(FirstHalf == Rest):\n",
        "      print(Input_String, \" String is Symmetrical\")\n",
        "    else:\n",
        "      print(Input_String,\" String is not Symmetrical\")\n",
        "\n",
        "# For input string as malayalam\n",
        "\n",
        "\n",
        "Input_String1 = \"malayalam\"\n",
        "List1 = []\n",
        "for i in Input_String1:\n",
        "  List1.append(i)\n",
        "mid = int(len(Input_String1)/2)\n",
        "check = len(Input_String1)%2\n",
        "if check != 0:\n",
        "  if(List1 == List1[::-1]):\n",
        "    print(Input_String1,\" String is palindrome\")\n",
        "  else:\n",
        "    print(Input_String1,\" String is not a palindrome\")\n",
        "elif check == 0:\n",
        "    FirstHalf = Input_String1[:mid]\n",
        "    Rest = Input_String1[mid:]\n",
        "    if(FirstHalf == Rest):\n",
        "      print(Input_String1,\" String is Symmetrical\")\n",
        "    else:\n",
        "      print(Input_String1,\" String is not Symmetrical\")\n"
      ],
      "metadata": {
        "id": "CUcuH2y45_k3",
        "colab": {
          "base_uri": "https://localhost:8080/"
        },
        "outputId": "492cd2ad-18cd-40cd-b2b5-edfb77942fdd"
      },
      "execution_count": null,
      "outputs": [
        {
          "output_type": "stream",
          "name": "stdout",
          "text": [
            "byebye  String is Symmetrical\n",
            "malayalam  String is palindrome\n"
          ]
        }
      ]
    },
    {
      "cell_type": "markdown",
      "source": [
        "12) Write a Python program to find the n-th term in a Fibonacci series using recursion. "
      ],
      "metadata": {
        "id": "UTTBF2a-JJxp"
      }
    },
    {
      "cell_type": "code",
      "source": [
        "n = int(input(\"Enter a n-th term: \"))\n",
        "\n",
        "def fibonacci(n):\n",
        "  if n <= 0:\n",
        "    return nan\n",
        "  elif n == 1:\n",
        "    return 0\n",
        "  elif n == 2:\n",
        "    return 1\n",
        "  else:\n",
        "    return fibonacci(n-1) + fibonacci(n-2)\n",
        "    \n",
        "\n",
        "print(n,\"th term in the fibonacci sequence is: \",fibonacci(n))"
      ],
      "metadata": {
        "id": "uDpIv5q09CZv",
        "colab": {
          "base_uri": "https://localhost:8080/"
        },
        "outputId": "7c58b47b-e091-4c0d-984f-4a7619fe9524"
      },
      "execution_count": null,
      "outputs": [
        {
          "output_type": "stream",
          "name": "stdout",
          "text": [
            "Enter a n-th term: 10\n",
            "10 th term in the fibonacci sequence is:  34\n"
          ]
        }
      ]
    },
    {
      "cell_type": "markdown",
      "source": [
        "13) Write a Python program to find the longest substring between two given strings. You may not use any package except the substring function but you can make use of recursive function. Here is the way you will be graded: "
      ],
      "metadata": {
        "id": "HLJqvrYNMFno"
      }
    },
    {
      "cell_type": "code",
      "source": [
        "import time\n",
        "start_time = time.time()\n",
        "def main():\n",
        "    print(\"--- %s seconds ---\" % (time.time() - start_time))\n",
        "\n",
        "def findlongestsubstring(string1,string2):\n",
        "    substring = 0\n",
        "    count = [[0]*(len(string2)+1)for  x in range(len(string1)+1)]\n",
        "    substringSet = set()\n",
        "    \n",
        "    for i in range (len(string1)):\n",
        "        for j in range (len(string2)):\n",
        "            if string1[i] == string2[j]:\n",
        "                num = count[i][j] + 1\n",
        "                count[i+1][j+1] = num\n",
        "                if num > substring:\n",
        "                    substringSet = set()\n",
        "                    substring = num\n",
        "                    substringSet.add(string1[i-num+1:i+1])\n",
        "                elif num == substring:\n",
        "                    substringSet.add(string1[i-num+1:i+1])\n",
        "    return substringSet\n",
        "\n",
        "print(findlongestsubstring(\"There was a dog in the park\",\"A dog is playing in the park\"))\n",
        "main()\n"
      ],
      "metadata": {
        "colab": {
          "base_uri": "https://localhost:8080/"
        },
        "id": "ei0xwrYpMWTW",
        "outputId": "11ccfad6-43ea-4db8-be04-dc9eeb66a78b"
      },
      "execution_count": null,
      "outputs": [
        {
          "output_type": "stream",
          "name": "stdout",
          "text": [
            "{'g in the park'}\n",
            "--- 0.00042510032653808594 seconds ---\n"
          ]
        }
      ]
    },
    {
      "cell_type": "markdown",
      "source": [
        "Write a Python program which accepts basic mathematical expressions from console and print \n",
        "the evaluation result. "
      ],
      "metadata": {
        "id": "ZHKvxHZAaebn"
      }
    },
    {
      "cell_type": "code",
      "source": [
        "math_Expression = input(\"Please enter a mathematical express: \")\n",
        "result = eval(math_Expression)\n",
        "print(\"The result of the expression is: \", result)"
      ],
      "metadata": {
        "colab": {
          "base_uri": "https://localhost:8080/"
        },
        "id": "UeFrdYfWahZ8",
        "outputId": "74a34fd7-3bd4-423d-96cf-e0f0f08a5b2a"
      },
      "execution_count": null,
      "outputs": [
        {
          "output_type": "stream",
          "name": "stdout",
          "text": [
            "Please enter a mathematical express: 35+3*2\n",
            "The result of the expression is:  41\n"
          ]
        }
      ]
    },
    {
      "cell_type": "markdown",
      "source": [
        "Read the loan data file into a dataframe and then compute the following: "
      ],
      "metadata": {
        "id": "6VZz5qH8a99E"
      }
    },
    {
      "cell_type": "markdown",
      "source": [
        "Loading loan.xlsx file"
      ],
      "metadata": {
        "id": "cjNKIyNzbB6N"
      }
    },
    {
      "cell_type": "code",
      "source": [
        "loan_df = pd.read_excel(\"/content/loan.xlsx\", index_col=[0])\n",
        "loan_df"
      ],
      "metadata": {
        "colab": {
          "base_uri": "https://localhost:8080/",
          "height": 519
        },
        "id": "0q_j8l_6bX5c",
        "outputId": "f7e45012-d7cc-419d-d280-c58622dbd0df"
      },
      "execution_count": null,
      "outputs": [
        {
          "output_type": "execute_result",
          "data": {
            "text/plain": [
              "           Age  Time_at_address Res_status  Telephone Occupation Job_status  \\\n",
              "Sex                                                                           \n",
              "M    50.750000            0.585      owner      given  unemploye  unemploye   \n",
              "M    19.670000           10.000       rent  not_given   labourer  governmen   \n",
              "F    52.830002           15.000      owner      given  creative_  private_s   \n",
              "M    22.670000            2.540       rent  not_given  creative_  governmen   \n",
              "M    29.250000           13.000      owner      given     driver  governmen   \n",
              "..         ...              ...        ...        ...        ...        ...   \n",
              "M    34.169998            2.750      owner      given  guard_etc  self_empl   \n",
              "F    22.250000            1.250       rent  not_given  unemploye  unemploye   \n",
              "M    23.330000            1.500      owner      given  creative_  governmen   \n",
              "M    21.000000            4.790       rent  not_given  productio  private_s   \n",
              "M    27.750000            1.290      owner      given   labourer  governmen   \n",
              "\n",
              "     Time_employed  Time_bank Liab_ref    Acc_ref  Home_Expn  Balance Decision  \n",
              "Sex                                                                             \n",
              "M                0          0        f      given        145        0   reject  \n",
              "M                0          0        t      given        140        0   reject  \n",
              "F                5         14        f      given          0     2200   accept  \n",
              "M                2          0        f      given          0        0   accept  \n",
              "M                0          0        f      given        228        0   reject  \n",
              "..             ...        ...      ...        ...        ...      ...      ...  \n",
              "M                2          0        t      given        232      200   reject  \n",
              "F                3          0        f      given        280        0   reject  \n",
              "M                1          0        f      given        422      200   accept  \n",
              "M                2          1        t      given         80      300   accept  \n",
              "M                0          0        t  oth_inst_        140        0   reject  \n",
              "\n",
              "[429 rows x 13 columns]"
            ],
            "text/html": [
              "\n",
              "  <div id=\"df-1df4a4ce-4282-47ed-9903-1e4fdccc9f35\">\n",
              "    <div class=\"colab-df-container\">\n",
              "      <div>\n",
              "<style scoped>\n",
              "    .dataframe tbody tr th:only-of-type {\n",
              "        vertical-align: middle;\n",
              "    }\n",
              "\n",
              "    .dataframe tbody tr th {\n",
              "        vertical-align: top;\n",
              "    }\n",
              "\n",
              "    .dataframe thead th {\n",
              "        text-align: right;\n",
              "    }\n",
              "</style>\n",
              "<table border=\"1\" class=\"dataframe\">\n",
              "  <thead>\n",
              "    <tr style=\"text-align: right;\">\n",
              "      <th></th>\n",
              "      <th>Age</th>\n",
              "      <th>Time_at_address</th>\n",
              "      <th>Res_status</th>\n",
              "      <th>Telephone</th>\n",
              "      <th>Occupation</th>\n",
              "      <th>Job_status</th>\n",
              "      <th>Time_employed</th>\n",
              "      <th>Time_bank</th>\n",
              "      <th>Liab_ref</th>\n",
              "      <th>Acc_ref</th>\n",
              "      <th>Home_Expn</th>\n",
              "      <th>Balance</th>\n",
              "      <th>Decision</th>\n",
              "    </tr>\n",
              "    <tr>\n",
              "      <th>Sex</th>\n",
              "      <th></th>\n",
              "      <th></th>\n",
              "      <th></th>\n",
              "      <th></th>\n",
              "      <th></th>\n",
              "      <th></th>\n",
              "      <th></th>\n",
              "      <th></th>\n",
              "      <th></th>\n",
              "      <th></th>\n",
              "      <th></th>\n",
              "      <th></th>\n",
              "      <th></th>\n",
              "    </tr>\n",
              "  </thead>\n",
              "  <tbody>\n",
              "    <tr>\n",
              "      <th>M</th>\n",
              "      <td>50.750000</td>\n",
              "      <td>0.585</td>\n",
              "      <td>owner</td>\n",
              "      <td>given</td>\n",
              "      <td>unemploye</td>\n",
              "      <td>unemploye</td>\n",
              "      <td>0</td>\n",
              "      <td>0</td>\n",
              "      <td>f</td>\n",
              "      <td>given</td>\n",
              "      <td>145</td>\n",
              "      <td>0</td>\n",
              "      <td>reject</td>\n",
              "    </tr>\n",
              "    <tr>\n",
              "      <th>M</th>\n",
              "      <td>19.670000</td>\n",
              "      <td>10.000</td>\n",
              "      <td>rent</td>\n",
              "      <td>not_given</td>\n",
              "      <td>labourer</td>\n",
              "      <td>governmen</td>\n",
              "      <td>0</td>\n",
              "      <td>0</td>\n",
              "      <td>t</td>\n",
              "      <td>given</td>\n",
              "      <td>140</td>\n",
              "      <td>0</td>\n",
              "      <td>reject</td>\n",
              "    </tr>\n",
              "    <tr>\n",
              "      <th>F</th>\n",
              "      <td>52.830002</td>\n",
              "      <td>15.000</td>\n",
              "      <td>owner</td>\n",
              "      <td>given</td>\n",
              "      <td>creative_</td>\n",
              "      <td>private_s</td>\n",
              "      <td>5</td>\n",
              "      <td>14</td>\n",
              "      <td>f</td>\n",
              "      <td>given</td>\n",
              "      <td>0</td>\n",
              "      <td>2200</td>\n",
              "      <td>accept</td>\n",
              "    </tr>\n",
              "    <tr>\n",
              "      <th>M</th>\n",
              "      <td>22.670000</td>\n",
              "      <td>2.540</td>\n",
              "      <td>rent</td>\n",
              "      <td>not_given</td>\n",
              "      <td>creative_</td>\n",
              "      <td>governmen</td>\n",
              "      <td>2</td>\n",
              "      <td>0</td>\n",
              "      <td>f</td>\n",
              "      <td>given</td>\n",
              "      <td>0</td>\n",
              "      <td>0</td>\n",
              "      <td>accept</td>\n",
              "    </tr>\n",
              "    <tr>\n",
              "      <th>M</th>\n",
              "      <td>29.250000</td>\n",
              "      <td>13.000</td>\n",
              "      <td>owner</td>\n",
              "      <td>given</td>\n",
              "      <td>driver</td>\n",
              "      <td>governmen</td>\n",
              "      <td>0</td>\n",
              "      <td>0</td>\n",
              "      <td>f</td>\n",
              "      <td>given</td>\n",
              "      <td>228</td>\n",
              "      <td>0</td>\n",
              "      <td>reject</td>\n",
              "    </tr>\n",
              "    <tr>\n",
              "      <th>...</th>\n",
              "      <td>...</td>\n",
              "      <td>...</td>\n",
              "      <td>...</td>\n",
              "      <td>...</td>\n",
              "      <td>...</td>\n",
              "      <td>...</td>\n",
              "      <td>...</td>\n",
              "      <td>...</td>\n",
              "      <td>...</td>\n",
              "      <td>...</td>\n",
              "      <td>...</td>\n",
              "      <td>...</td>\n",
              "      <td>...</td>\n",
              "    </tr>\n",
              "    <tr>\n",
              "      <th>M</th>\n",
              "      <td>34.169998</td>\n",
              "      <td>2.750</td>\n",
              "      <td>owner</td>\n",
              "      <td>given</td>\n",
              "      <td>guard_etc</td>\n",
              "      <td>self_empl</td>\n",
              "      <td>2</td>\n",
              "      <td>0</td>\n",
              "      <td>t</td>\n",
              "      <td>given</td>\n",
              "      <td>232</td>\n",
              "      <td>200</td>\n",
              "      <td>reject</td>\n",
              "    </tr>\n",
              "    <tr>\n",
              "      <th>F</th>\n",
              "      <td>22.250000</td>\n",
              "      <td>1.250</td>\n",
              "      <td>rent</td>\n",
              "      <td>not_given</td>\n",
              "      <td>unemploye</td>\n",
              "      <td>unemploye</td>\n",
              "      <td>3</td>\n",
              "      <td>0</td>\n",
              "      <td>f</td>\n",
              "      <td>given</td>\n",
              "      <td>280</td>\n",
              "      <td>0</td>\n",
              "      <td>reject</td>\n",
              "    </tr>\n",
              "    <tr>\n",
              "      <th>M</th>\n",
              "      <td>23.330000</td>\n",
              "      <td>1.500</td>\n",
              "      <td>owner</td>\n",
              "      <td>given</td>\n",
              "      <td>creative_</td>\n",
              "      <td>governmen</td>\n",
              "      <td>1</td>\n",
              "      <td>0</td>\n",
              "      <td>f</td>\n",
              "      <td>given</td>\n",
              "      <td>422</td>\n",
              "      <td>200</td>\n",
              "      <td>accept</td>\n",
              "    </tr>\n",
              "    <tr>\n",
              "      <th>M</th>\n",
              "      <td>21.000000</td>\n",
              "      <td>4.790</td>\n",
              "      <td>rent</td>\n",
              "      <td>not_given</td>\n",
              "      <td>productio</td>\n",
              "      <td>private_s</td>\n",
              "      <td>2</td>\n",
              "      <td>1</td>\n",
              "      <td>t</td>\n",
              "      <td>given</td>\n",
              "      <td>80</td>\n",
              "      <td>300</td>\n",
              "      <td>accept</td>\n",
              "    </tr>\n",
              "    <tr>\n",
              "      <th>M</th>\n",
              "      <td>27.750000</td>\n",
              "      <td>1.290</td>\n",
              "      <td>owner</td>\n",
              "      <td>given</td>\n",
              "      <td>labourer</td>\n",
              "      <td>governmen</td>\n",
              "      <td>0</td>\n",
              "      <td>0</td>\n",
              "      <td>t</td>\n",
              "      <td>oth_inst_</td>\n",
              "      <td>140</td>\n",
              "      <td>0</td>\n",
              "      <td>reject</td>\n",
              "    </tr>\n",
              "  </tbody>\n",
              "</table>\n",
              "<p>429 rows × 13 columns</p>\n",
              "</div>\n",
              "      <button class=\"colab-df-convert\" onclick=\"convertToInteractive('df-1df4a4ce-4282-47ed-9903-1e4fdccc9f35')\"\n",
              "              title=\"Convert this dataframe to an interactive table.\"\n",
              "              style=\"display:none;\">\n",
              "        \n",
              "  <svg xmlns=\"http://www.w3.org/2000/svg\" height=\"24px\"viewBox=\"0 0 24 24\"\n",
              "       width=\"24px\">\n",
              "    <path d=\"M0 0h24v24H0V0z\" fill=\"none\"/>\n",
              "    <path d=\"M18.56 5.44l.94 2.06.94-2.06 2.06-.94-2.06-.94-.94-2.06-.94 2.06-2.06.94zm-11 1L8.5 8.5l.94-2.06 2.06-.94-2.06-.94L8.5 2.5l-.94 2.06-2.06.94zm10 10l.94 2.06.94-2.06 2.06-.94-2.06-.94-.94-2.06-.94 2.06-2.06.94z\"/><path d=\"M17.41 7.96l-1.37-1.37c-.4-.4-.92-.59-1.43-.59-.52 0-1.04.2-1.43.59L10.3 9.45l-7.72 7.72c-.78.78-.78 2.05 0 2.83L4 21.41c.39.39.9.59 1.41.59.51 0 1.02-.2 1.41-.59l7.78-7.78 2.81-2.81c.8-.78.8-2.07 0-2.86zM5.41 20L4 18.59l7.72-7.72 1.47 1.35L5.41 20z\"/>\n",
              "  </svg>\n",
              "      </button>\n",
              "      \n",
              "  <style>\n",
              "    .colab-df-container {\n",
              "      display:flex;\n",
              "      flex-wrap:wrap;\n",
              "      gap: 12px;\n",
              "    }\n",
              "\n",
              "    .colab-df-convert {\n",
              "      background-color: #E8F0FE;\n",
              "      border: none;\n",
              "      border-radius: 50%;\n",
              "      cursor: pointer;\n",
              "      display: none;\n",
              "      fill: #1967D2;\n",
              "      height: 32px;\n",
              "      padding: 0 0 0 0;\n",
              "      width: 32px;\n",
              "    }\n",
              "\n",
              "    .colab-df-convert:hover {\n",
              "      background-color: #E2EBFA;\n",
              "      box-shadow: 0px 1px 2px rgba(60, 64, 67, 0.3), 0px 1px 3px 1px rgba(60, 64, 67, 0.15);\n",
              "      fill: #174EA6;\n",
              "    }\n",
              "\n",
              "    [theme=dark] .colab-df-convert {\n",
              "      background-color: #3B4455;\n",
              "      fill: #D2E3FC;\n",
              "    }\n",
              "\n",
              "    [theme=dark] .colab-df-convert:hover {\n",
              "      background-color: #434B5C;\n",
              "      box-shadow: 0px 1px 3px 1px rgba(0, 0, 0, 0.15);\n",
              "      filter: drop-shadow(0px 1px 2px rgba(0, 0, 0, 0.3));\n",
              "      fill: #FFFFFF;\n",
              "    }\n",
              "  </style>\n",
              "\n",
              "      <script>\n",
              "        const buttonEl =\n",
              "          document.querySelector('#df-1df4a4ce-4282-47ed-9903-1e4fdccc9f35 button.colab-df-convert');\n",
              "        buttonEl.style.display =\n",
              "          google.colab.kernel.accessAllowed ? 'block' : 'none';\n",
              "\n",
              "        async function convertToInteractive(key) {\n",
              "          const element = document.querySelector('#df-1df4a4ce-4282-47ed-9903-1e4fdccc9f35');\n",
              "          const dataTable =\n",
              "            await google.colab.kernel.invokeFunction('convertToInteractive',\n",
              "                                                     [key], {});\n",
              "          if (!dataTable) return;\n",
              "\n",
              "          const docLinkHtml = 'Like what you see? Visit the ' +\n",
              "            '<a target=\"_blank\" href=https://colab.research.google.com/notebooks/data_table.ipynb>data table notebook</a>'\n",
              "            + ' to learn more about interactive tables.';\n",
              "          element.innerHTML = '';\n",
              "          dataTable['output_type'] = 'display_data';\n",
              "          await google.colab.output.renderOutput(dataTable, element);\n",
              "          const docLink = document.createElement('div');\n",
              "          docLink.innerHTML = docLinkHtml;\n",
              "          element.appendChild(docLink);\n",
              "        }\n",
              "      </script>\n",
              "    </div>\n",
              "  </div>\n",
              "  "
            ]
          },
          "metadata": {},
          "execution_count": 211
        }
      ]
    },
    {
      "cell_type": "markdown",
      "source": [
        "• mean and variance of the Age column"
      ],
      "metadata": {
        "id": "wxYxpwPkbW9U"
      }
    },
    {
      "cell_type": "code",
      "source": [
        "mean = loan_df['Age'].mean()\n",
        "variance = loan_df['Age'].var()\n",
        "print(\"Mean: \",mean)\n",
        "print(\"Variance: \",variance)"
      ],
      "metadata": {
        "colab": {
          "base_uri": "https://localhost:8080/"
        },
        "id": "eZ9wsmOzcIsM",
        "outputId": "9f8ce18c-b765-4985-d819-086d6a5aef74"
      },
      "execution_count": null,
      "outputs": [
        {
          "output_type": "stream",
          "name": "stdout",
          "text": [
            "Mean:  31.51016316713987\n",
            "Variance:  140.27074594116948\n"
          ]
        }
      ]
    },
    {
      "cell_type": "markdown",
      "source": [
        "• correlation coefficient between the two numerical columns Age and Time_at_address"
      ],
      "metadata": {
        "id": "GKoJ__8ec_2o"
      }
    },
    {
      "cell_type": "code",
      "source": [
        "Correlation_coef = loan_df['Age'].corr(loan_df['Time_at_address'])\n",
        "print(\"Correlation Coefficient: \",Correlation_coef)"
      ],
      "metadata": {
        "colab": {
          "base_uri": "https://localhost:8080/"
        },
        "id": "tU7hJ1ehdDMZ",
        "outputId": "37bf22c5-9191-4b3b-9b12-cf4f6e54caf3"
      },
      "execution_count": null,
      "outputs": [
        {
          "output_type": "stream",
          "name": "stdout",
          "text": [
            "Correlation Coefficient:  0.21734150131364394\n"
          ]
        }
      ]
    },
    {
      "cell_type": "markdown",
      "source": [
        "• the conditional probability p(Decision = reject | Occupation = Unemployed)"
      ],
      "metadata": {
        "id": "HSRtwK7Rdhwq"
      }
    },
    {
      "cell_type": "code",
      "source": [
        "def conditionalProbability(df, a, b):\n",
        "    return df.groupby(a)[b].value_counts()/df.groupby(a)[b].count()\n",
        "print(\"Conditional probability: \\n\", conditionalProbability(loan_df, \"Decision\", \"Occupation\"))\n",
        "prob = conditionalProbability(loan_df, \"Decision\", \"Occupation\")\n",
        "print(\"Conditional probability of decision as reject and occupation as unemployed is : \", prob[\"reject\",\"unemploye\"])"
      ],
      "metadata": {
        "colab": {
          "base_uri": "https://localhost:8080/"
        },
        "id": "Qtm7hbIJdkF4",
        "outputId": "0e3ceebb-473c-4071-d874-8140e132bfa2"
      },
      "execution_count": null,
      "outputs": [
        {
          "output_type": "stream",
          "name": "stdout",
          "text": [
            "Conditional probability: \n",
            " Decision  Occupation\n",
            "accept    creative_     0.229167\n",
            "          office_st     0.161458\n",
            "          productio     0.114583\n",
            "          professio     0.088542\n",
            "          semi_pro      0.078125\n",
            "          executive     0.062500\n",
            "          labourer      0.062500\n",
            "          sales         0.062500\n",
            "          manager       0.057292\n",
            "          guard_etc     0.041667\n",
            "          driver        0.020833\n",
            "          unemploye     0.020833\n",
            "reject    creative_     0.202532\n",
            "          labourer      0.126582\n",
            "          guard_etc     0.113924\n",
            "          unemploye     0.109705\n",
            "          productio     0.097046\n",
            "          sales         0.080169\n",
            "          office_st     0.075949\n",
            "          manager       0.071730\n",
            "          driver        0.050633\n",
            "          executive     0.033755\n",
            "          semi_pro      0.021097\n",
            "          professio     0.016878\n",
            "Name: Occupation, dtype: float64\n",
            "Conditional probability of decision as reject and occupation as unemployed is :  0.10970464135021098\n"
          ]
        }
      ]
    },
    {
      "cell_type": "markdown",
      "source": [
        "• frequency of values in the Job-status column and then draw a bar diagram using matplotlib"
      ],
      "metadata": {
        "id": "v8N_WEYgfwzm"
      }
    },
    {
      "cell_type": "code",
      "source": [
        "frequency = loan_df.Job_status.value_counts()\n",
        "print(\"Frequency of the job status:\\n\",frequency)\n"
      ],
      "metadata": {
        "colab": {
          "base_uri": "https://localhost:8080/"
        },
        "id": "9XtSTLP_f0d_",
        "outputId": "69892c71-0883-4ddd-80cb-bbb525d5e906"
      },
      "execution_count": null,
      "outputs": [
        {
          "output_type": "stream",
          "name": "stdout",
          "text": [
            "Frequency of the job status:\n",
            " private_s    265\n",
            "governmen     82\n",
            "self_empl     37\n",
            "unemploye     31\n",
            "retired        8\n",
            "student        5\n",
            "military       1\n",
            "Name: Job_status, dtype: int64\n"
          ]
        }
      ]
    },
    {
      "cell_type": "code",
      "source": [
        "import matplotlib.pyplot as plt\n",
        "\n",
        "status=loan_df['Job_status'].value_counts().to_dict()\n",
        "x=list(status.keys())\n",
        "y=list(status.values())\n",
        "plt.bar(x,y,color='blue',width=0.6)\n",
        "plt.xlabel('Job_status')\n",
        "plt.ylabel('Frequency')\n",
        "plt.show()"
      ],
      "metadata": {
        "colab": {
          "base_uri": "https://localhost:8080/",
          "height": 281
        },
        "id": "0pAfAH24gyDc",
        "outputId": "0b4f203a-f103-4582-b055-6e7d10269bef"
      },
      "execution_count": null,
      "outputs": [
        {
          "output_type": "display_data",
          "data": {
            "text/plain": [
              "<Figure size 432x288 with 1 Axes>"
            ],
            "image/png": "[encoded data removed]"
          },
          "metadata": {
            "needs_background": "light"
          }
        }
      ]
    },
    {
      "cell_type": "markdown",
      "source": [
        "16) Suppose the loan data file provides some examples of applications to accept or reject, as \n",
        "specified in the Decision column N, given the input background info in columns A-M. Come up \n",
        "with various ways to find out the degree of relevance between each input “categorical” column \n",
        "of A-M and the Decision column N. (hint. Chi-Square Test of Independence and Mutual Information)"
      ],
      "metadata": {
        "id": "M7T4-CrkgRAE"
      }
    },
    {
      "cell_type": "code",
      "source": [
        "from sklearn.preprocessing import OneHotEncoder\n",
        "from sklearn.preprocessing import LabelEncoder\n",
        "from sklearn.feature_selection import SelectKBest\n",
        "from sklearn.feature_selection import chi2, f_regression\n",
        "data = loan_df.values\n",
        "x = data[:,:-1]\n",
        "y = data[:,-1:]\n",
        "print(x.shape)\n",
        "print(y.shape)"
      ],
      "metadata": {
        "colab": {
          "base_uri": "https://localhost:8080/"
        },
        "id": "lLsPKFjRgTMb",
        "outputId": "030fde47-01d8-44cc-9d14-8d10e20209bd"
      },
      "execution_count": null,
      "outputs": [
        {
          "output_type": "stream",
          "name": "stdout",
          "text": [
            "(429, 12)\n",
            "(429, 1)\n"
          ]
        }
      ]
    },
    {
      "cell_type": "code",
      "source": [
        "oneHotEncoder=OneHotEncoder(handle_unknown='ignore')\n",
        "oneHotEncoder.fit(x)\n",
        "x_transform=oneHotEncoder.transform(x)\n",
        "labelEncoder=LabelEncoder()\n",
        "labelEncoder.fit(y)\n",
        "y_transform=labelEncoder.transform(y)"
      ],
      "metadata": {
        "colab": {
          "base_uri": "https://localhost:8080/"
        },
        "id": "i0lk0W8oiqFB",
        "outputId": "2248f74c-a47f-4bb0-e7af-bf8330818dd4"
      },
      "execution_count": null,
      "outputs": [
        {
          "output_type": "stream",
          "name": "stderr",
          "text": [
            "/usr/local/lib/python3.8/dist-packages/sklearn/preprocessing/_label.py:98: DataConversionWarning: A column-vector y was passed when a 1d array was expected. Please change the shape of y to (n_samples, ), for example using ravel().\n",
            "  y = column_or_1d(y, warn=True)\n",
            "/usr/local/lib/python3.8/dist-packages/sklearn/preprocessing/_label.py:133: DataConversionWarning: A column-vector y was passed when a 1d array was expected. Please change the shape of y to (n_samples, ), for example using ravel().\n",
            "  y = column_or_1d(y, warn=True)\n"
          ]
        }
      ]
    },
    {
      "cell_type": "code",
      "source": [
        "selectK = SelectKBest(score_func=chi2,k=13)\n",
        "fit = selectK.fit(x_transform,y_transform)\n",
        "print(fit)"
      ],
      "metadata": {
        "colab": {
          "base_uri": "https://localhost:8080/"
        },
        "id": "sbD_iEYRjIZ5",
        "outputId": "0278b503-7eb8-4e3e-be04-dab5e17f6b6a"
      },
      "execution_count": null,
      "outputs": [
        {
          "output_type": "stream",
          "name": "stdout",
          "text": [
            "SelectKBest(k=1, score_func=<function chi2 at 0x7f92012c1820>)\n"
          ]
        }
      ]
    },
    {
      "cell_type": "code",
      "source": [
        "for i in range(len(fit.scores_)):\n",
        "\tprint(\"Feature: \", i , \":\",\"Degree of relevance: \",fit.scores_[i] )"
      ],
      "metadata": {
        "colab": {
          "base_uri": "https://localhost:8080/"
        },
        "id": "w-R7omERjW6i",
        "outputId": "df20548b-ac53-4bc0-9081-25c56ca5820b"
      },
      "execution_count": null,
      "outputs": [
        {
          "output_type": "stream",
          "name": "stdout",
          "text": [
            "Feature:  0 : Degree of relevance:  0.8101265822784811\n",
            "Feature:  1 : Degree of relevance:  0.8101265822784811\n",
            "Feature:  2 : Degree of relevance:  1.234375\n",
            "Feature:  3 : Degree of relevance:  0.8101265822784811\n",
            "Feature:  4 : Degree of relevance:  0.8101265822784811\n",
            "Feature:  5 : Degree of relevance:  0.022250791139240486\n",
            "Feature:  6 : Degree of relevance:  0.8101265822784811\n",
            "Feature:  7 : Degree of relevance:  1.6202531645569622\n",
            "Feature:  8 : Degree of relevance:  1.6202531645569622\n",
            "Feature:  9 : Degree of relevance:  1.6202531645569622\n",
            "Feature:  10 : Degree of relevance:  0.8101265822784811\n",
            "Feature:  11 : Degree of relevance:  0.8101265822784811\n",
            "Feature:  12 : Degree of relevance:  0.8101265822784811\n",
            "Feature:  13 : Degree of relevance:  0.022250791139240486\n",
            "Feature:  14 : Degree of relevance:  1.234375\n",
            "Feature:  15 : Degree of relevance:  1.6202531645569622\n",
            "Feature:  16 : Degree of relevance:  0.022250791139240486\n",
            "Feature:  17 : Degree of relevance:  0.8101265822784811\n",
            "Feature:  18 : Degree of relevance:  1.6202531645569622\n",
            "Feature:  19 : Degree of relevance:  0.8101265822784811\n",
            "Feature:  20 : Degree of relevance:  0.022250791139240486\n",
            "Feature:  21 : Degree of relevance:  1.234375\n",
            "Feature:  22 : Degree of relevance:  1.6202531645569622\n",
            "Feature:  23 : Degree of relevance:  0.8101265822784811\n",
            "Feature:  24 : Degree of relevance:  0.6313785601265824\n",
            "Feature:  25 : Degree of relevance:  2.46875\n",
            "Feature:  26 : Degree of relevance:  0.5825421940928268\n",
            "Feature:  27 : Degree of relevance:  0.022250791139240486\n",
            "Feature:  28 : Degree of relevance:  0.15829377637130815\n",
            "Feature:  29 : Degree of relevance:  1.6202531645569622\n",
            "Feature:  30 : Degree of relevance:  1.6202531645569622\n",
            "Feature:  31 : Degree of relevance:  0.022250791139240486\n",
            "Feature:  32 : Degree of relevance:  0.8101265822784811\n",
            "Feature:  33 : Degree of relevance:  1.6202531645569622\n",
            "Feature:  34 : Degree of relevance:  1.6202531645569622\n",
            "Feature:  35 : Degree of relevance:  1.234375\n",
            "Feature:  36 : Degree of relevance:  1.234375\n",
            "Feature:  37 : Degree of relevance:  1.234375\n",
            "Feature:  38 : Degree of relevance:  1.6202531645569622\n",
            "Feature:  39 : Degree of relevance:  2.46875\n",
            "Feature:  40 : Degree of relevance:  1.2392800632911394\n",
            "Feature:  41 : Degree of relevance:  0.15829377637130815\n",
            "Feature:  42 : Degree of relevance:  0.022250791139240486\n",
            "Feature:  43 : Degree of relevance:  1.234375\n",
            "Feature:  44 : Degree of relevance:  0.8101265822784811\n",
            "Feature:  45 : Degree of relevance:  1.6202531645569622\n",
            "Feature:  46 : Degree of relevance:  2.46875\n",
            "Feature:  47 : Degree of relevance:  0.15829377637130815\n",
            "Feature:  48 : Degree of relevance:  0.022250791139240486\n",
            "Feature:  49 : Degree of relevance:  0.8101265822784811\n",
            "Feature:  50 : Degree of relevance:  1.234375\n",
            "Feature:  51 : Degree of relevance:  1.6202531645569622\n",
            "Feature:  52 : Degree of relevance:  0.8101265822784811\n",
            "Feature:  53 : Degree of relevance:  1.6202531645569622\n",
            "Feature:  54 : Degree of relevance:  2.4303797468354436\n",
            "Feature:  55 : Degree of relevance:  1.6202531645569622\n",
            "Feature:  56 : Degree of relevance:  1.234375\n",
            "Feature:  57 : Degree of relevance:  0.15829377637130815\n",
            "Feature:  58 : Degree of relevance:  0.8101265822784811\n",
            "Feature:  59 : Degree of relevance:  0.08900316455696194\n",
            "Feature:  60 : Degree of relevance:  1.234375\n",
            "Feature:  61 : Degree of relevance:  2.46875\n",
            "Feature:  62 : Degree of relevance:  1.6202531645569622\n",
            "Feature:  63 : Degree of relevance:  1.6202531645569622\n",
            "Feature:  64 : Degree of relevance:  0.022250791139240486\n",
            "Feature:  65 : Degree of relevance:  2.46875\n",
            "Feature:  66 : Degree of relevance:  2.512025316455696\n",
            "Feature:  67 : Degree of relevance:  2.46875\n",
            "Feature:  68 : Degree of relevance:  0.022250791139240486\n",
            "Feature:  69 : Degree of relevance:  0.15829377637130815\n",
            "Feature:  70 : Degree of relevance:  2.4303797468354436\n",
            "Feature:  71 : Degree of relevance:  1.6202531645569622\n",
            "Feature:  72 : Degree of relevance:  1.234375\n",
            "Feature:  73 : Degree of relevance:  0.022250791139240486\n",
            "Feature:  74 : Degree of relevance:  1.234375\n",
            "Feature:  75 : Degree of relevance:  0.022250791139240486\n",
            "Feature:  76 : Degree of relevance:  0.15829377637130815\n",
            "Feature:  77 : Degree of relevance:  2.4303797468354436\n",
            "Feature:  78 : Degree of relevance:  0.5825421940928268\n",
            "Feature:  79 : Degree of relevance:  0.8101265822784811\n",
            "Feature:  80 : Degree of relevance:  1.47987539556962\n",
            "Feature:  81 : Degree of relevance:  1.234375\n",
            "Feature:  82 : Degree of relevance:  0.5825421940928268\n",
            "Feature:  83 : Degree of relevance:  1.6202531645569622\n",
            "Feature:  84 : Degree of relevance:  0.022250791139240486\n",
            "Feature:  85 : Degree of relevance:  0.8101265822784811\n",
            "Feature:  86 : Degree of relevance:  0.8101265822784811\n",
            "Feature:  87 : Degree of relevance:  2.4303797468354436\n",
            "Feature:  88 : Degree of relevance:  2.46875\n",
            "Feature:  89 : Degree of relevance:  0.8101265822784811\n",
            "Feature:  90 : Degree of relevance:  0.8101265822784811\n",
            "Feature:  91 : Degree of relevance:  1.234375\n",
            "Feature:  92 : Degree of relevance:  1.234375\n",
            "Feature:  93 : Degree of relevance:  0.022250791139240486\n",
            "Feature:  94 : Degree of relevance:  0.8101265822784811\n",
            "Feature:  95 : Degree of relevance:  0.8101265822784811\n",
            "Feature:  96 : Degree of relevance:  0.8101265822784811\n",
            "Feature:  97 : Degree of relevance:  1.47987539556962\n",
            "Feature:  98 : Degree of relevance:  0.8101265822784811\n",
            "Feature:  99 : Degree of relevance:  0.8101265822784811\n",
            "Feature:  100 : Degree of relevance:  0.022250791139240486\n",
            "Feature:  101 : Degree of relevance:  2.46875\n",
            "Feature:  102 : Degree of relevance:  0.15829377637130815\n",
            "Feature:  103 : Degree of relevance:  0.15829377637130815\n",
            "Feature:  104 : Degree of relevance:  0.8101265822784811\n",
            "Feature:  105 : Degree of relevance:  0.022250791139240486\n",
            "Feature:  106 : Degree of relevance:  0.15829377637130815\n",
            "Feature:  107 : Degree of relevance:  0.022250791139240486\n",
            "Feature:  108 : Degree of relevance:  1.234375\n",
            "Feature:  109 : Degree of relevance:  0.8101265822784811\n",
            "Feature:  110 : Degree of relevance:  2.46875\n",
            "Feature:  111 : Degree of relevance:  1.234375\n",
            "Feature:  112 : Degree of relevance:  1.234375\n",
            "Feature:  113 : Degree of relevance:  0.022250791139240486\n",
            "Feature:  114 : Degree of relevance:  1.6202531645569622\n",
            "Feature:  115 : Degree of relevance:  0.5825421940928268\n",
            "Feature:  116 : Degree of relevance:  0.022250791139240486\n",
            "Feature:  117 : Degree of relevance:  0.8101265822784811\n",
            "Feature:  118 : Degree of relevance:  0.8101265822784811\n",
            "Feature:  119 : Degree of relevance:  0.8101265822784811\n",
            "Feature:  120 : Degree of relevance:  0.15829377637130815\n",
            "Feature:  121 : Degree of relevance:  0.15829377637130815\n",
            "Feature:  122 : Degree of relevance:  1.234375\n",
            "Feature:  123 : Degree of relevance:  2.4303797468354436\n",
            "Feature:  124 : Degree of relevance:  1.234375\n",
            "Feature:  125 : Degree of relevance:  1.234375\n",
            "Feature:  126 : Degree of relevance:  0.8101265822784811\n",
            "Feature:  127 : Degree of relevance:  0.022250791139240486\n",
            "Feature:  128 : Degree of relevance:  0.8101265822784811\n",
            "Feature:  129 : Degree of relevance:  0.8101265822784811\n",
            "Feature:  130 : Degree of relevance:  0.8101265822784811\n",
            "Feature:  131 : Degree of relevance:  1.234375\n",
            "Feature:  132 : Degree of relevance:  0.8101265822784811\n",
            "Feature:  133 : Degree of relevance:  0.022250791139240486\n",
            "Feature:  134 : Degree of relevance:  0.8101265822784811\n",
            "Feature:  135 : Degree of relevance:  0.8101265822784811\n",
            "Feature:  136 : Degree of relevance:  1.6202531645569622\n",
            "Feature:  137 : Degree of relevance:  1.6202531645569622\n",
            "Feature:  138 : Degree of relevance:  1.234375\n",
            "Feature:  139 : Degree of relevance:  0.8101265822784811\n",
            "Feature:  140 : Degree of relevance:  0.8101265822784811\n",
            "Feature:  141 : Degree of relevance:  2.46875\n",
            "Feature:  142 : Degree of relevance:  0.8101265822784811\n",
            "Feature:  143 : Degree of relevance:  0.022250791139240486\n",
            "Feature:  144 : Degree of relevance:  1.234375\n",
            "Feature:  145 : Degree of relevance:  0.022250791139240486\n",
            "Feature:  146 : Degree of relevance:  1.234375\n",
            "Feature:  147 : Degree of relevance:  0.15829377637130815\n",
            "Feature:  148 : Degree of relevance:  0.8101265822784811\n",
            "Feature:  149 : Degree of relevance:  1.234375\n",
            "Feature:  150 : Degree of relevance:  1.234375\n",
            "Feature:  151 : Degree of relevance:  0.8101265822784811\n",
            "Feature:  152 : Degree of relevance:  0.022250791139240486\n",
            "Feature:  153 : Degree of relevance:  2.46875\n",
            "Feature:  154 : Degree of relevance:  1.234375\n",
            "Feature:  155 : Degree of relevance:  1.234375\n",
            "Feature:  156 : Degree of relevance:  0.022250791139240486\n",
            "Feature:  157 : Degree of relevance:  1.6202531645569622\n",
            "Feature:  158 : Degree of relevance:  0.8101265822784811\n",
            "Feature:  159 : Degree of relevance:  1.6202531645569622\n",
            "Feature:  160 : Degree of relevance:  1.47987539556962\n",
            "Feature:  161 : Degree of relevance:  1.234375\n",
            "Feature:  162 : Degree of relevance:  0.022250791139240486\n",
            "Feature:  163 : Degree of relevance:  1.234375\n",
            "Feature:  164 : Degree of relevance:  0.8101265822784811\n",
            "Feature:  165 : Degree of relevance:  0.8101265822784811\n",
            "Feature:  166 : Degree of relevance:  2.46875\n",
            "Feature:  167 : Degree of relevance:  0.022250791139240486\n",
            "Feature:  168 : Degree of relevance:  0.8101265822784811\n",
            "Feature:  169 : Degree of relevance:  1.234375\n",
            "Feature:  170 : Degree of relevance:  0.8101265822784811\n",
            "Feature:  171 : Degree of relevance:  1.234375\n",
            "Feature:  172 : Degree of relevance:  0.8101265822784811\n",
            "Feature:  173 : Degree of relevance:  1.6202531645569622\n",
            "Feature:  174 : Degree of relevance:  1.234375\n",
            "Feature:  175 : Degree of relevance:  1.234375\n",
            "Feature:  176 : Degree of relevance:  0.8101265822784811\n",
            "Feature:  177 : Degree of relevance:  0.8101265822784811\n",
            "Feature:  178 : Degree of relevance:  0.022250791139240486\n",
            "Feature:  179 : Degree of relevance:  0.8101265822784811\n",
            "Feature:  180 : Degree of relevance:  0.022250791139240486\n",
            "Feature:  181 : Degree of relevance:  1.234375\n",
            "Feature:  182 : Degree of relevance:  0.15829377637130815\n",
            "Feature:  183 : Degree of relevance:  0.8101265822784811\n",
            "Feature:  184 : Degree of relevance:  0.022250791139240486\n",
            "Feature:  185 : Degree of relevance:  0.8101265822784811\n",
            "Feature:  186 : Degree of relevance:  0.8101265822784811\n",
            "Feature:  187 : Degree of relevance:  0.8101265822784811\n",
            "Feature:  188 : Degree of relevance:  1.234375\n",
            "Feature:  189 : Degree of relevance:  0.8101265822784811\n",
            "Feature:  190 : Degree of relevance:  2.46875\n",
            "Feature:  191 : Degree of relevance:  1.234375\n",
            "Feature:  192 : Degree of relevance:  0.8101265822784811\n",
            "Feature:  193 : Degree of relevance:  0.022250791139240486\n",
            "Feature:  194 : Degree of relevance:  0.8101265822784811\n",
            "Feature:  195 : Degree of relevance:  1.234375\n",
            "Feature:  196 : Degree of relevance:  1.234375\n",
            "Feature:  197 : Degree of relevance:  1.234375\n",
            "Feature:  198 : Degree of relevance:  0.15829377637130815\n",
            "Feature:  199 : Degree of relevance:  2.4303797468354436\n",
            "Feature:  200 : Degree of relevance:  2.46875\n",
            "Feature:  201 : Degree of relevance:  0.022250791139240486\n",
            "Feature:  202 : Degree of relevance:  2.46875\n",
            "Feature:  203 : Degree of relevance:  1.6202531645569622\n",
            "Feature:  204 : Degree of relevance:  1.234375\n",
            "Feature:  205 : Degree of relevance:  1.234375\n",
            "Feature:  206 : Degree of relevance:  2.46875\n",
            "Feature:  207 : Degree of relevance:  1.234375\n",
            "Feature:  208 : Degree of relevance:  1.6202531645569622\n",
            "Feature:  209 : Degree of relevance:  0.8101265822784811\n",
            "Feature:  210 : Degree of relevance:  1.234375\n",
            "Feature:  211 : Degree of relevance:  1.234375\n",
            "Feature:  212 : Degree of relevance:  1.6202531645569622\n",
            "Feature:  213 : Degree of relevance:  0.8101265822784811\n",
            "Feature:  214 : Degree of relevance:  1.234375\n",
            "Feature:  215 : Degree of relevance:  1.234375\n",
            "Feature:  216 : Degree of relevance:  0.8101265822784811\n",
            "Feature:  217 : Degree of relevance:  1.234375\n",
            "Feature:  218 : Degree of relevance:  0.8101265822784811\n",
            "Feature:  219 : Degree of relevance:  1.234375\n",
            "Feature:  220 : Degree of relevance:  1.234375\n",
            "Feature:  221 : Degree of relevance:  1.234375\n",
            "Feature:  222 : Degree of relevance:  1.234375\n",
            "Feature:  223 : Degree of relevance:  0.8101265822784811\n",
            "Feature:  224 : Degree of relevance:  1.234375\n",
            "Feature:  225 : Degree of relevance:  0.8101265822784811\n",
            "Feature:  226 : Degree of relevance:  2.46875\n",
            "Feature:  227 : Degree of relevance:  2.46875\n",
            "Feature:  228 : Degree of relevance:  1.234375\n",
            "Feature:  229 : Degree of relevance:  0.022250791139240486\n",
            "Feature:  230 : Degree of relevance:  1.234375\n",
            "Feature:  231 : Degree of relevance:  1.234375\n",
            "Feature:  232 : Degree of relevance:  1.234375\n",
            "Feature:  233 : Degree of relevance:  1.234375\n",
            "Feature:  234 : Degree of relevance:  1.234375\n",
            "Feature:  235 : Degree of relevance:  1.234375\n",
            "Feature:  236 : Degree of relevance:  0.8101265822784811\n",
            "Feature:  237 : Degree of relevance:  1.234375\n",
            "Feature:  238 : Degree of relevance:  0.8101265822784811\n",
            "Feature:  239 : Degree of relevance:  1.234375\n",
            "Feature:  240 : Degree of relevance:  1.234375\n",
            "Feature:  241 : Degree of relevance:  0.8101265822784811\n",
            "Feature:  242 : Degree of relevance:  0.8101265822784811\n",
            "Feature:  243 : Degree of relevance:  0.8101265822784811\n",
            "Feature:  244 : Degree of relevance:  0.8101265822784811\n",
            "Feature:  245 : Degree of relevance:  0.8101265822784811\n",
            "Feature:  246 : Degree of relevance:  0.8101265822784811\n",
            "Feature:  247 : Degree of relevance:  0.8101265822784811\n",
            "Feature:  248 : Degree of relevance:  1.234375\n",
            "Feature:  249 : Degree of relevance:  0.8101265822784811\n",
            "Feature:  250 : Degree of relevance:  1.234375\n",
            "Feature:  251 : Degree of relevance:  1.234375\n",
            "Feature:  252 : Degree of relevance:  0.8101265822784811\n",
            "Feature:  253 : Degree of relevance:  1.234375\n",
            "Feature:  254 : Degree of relevance:  1.234375\n",
            "Feature:  255 : Degree of relevance:  0.8101265822784811\n",
            "Feature:  256 : Degree of relevance:  0.022250791139240486\n",
            "Feature:  257 : Degree of relevance:  1.234375\n",
            "Feature:  258 : Degree of relevance:  1.234375\n",
            "Feature:  259 : Degree of relevance:  1.234375\n",
            "Feature:  260 : Degree of relevance:  1.234375\n",
            "Feature:  261 : Degree of relevance:  1.234375\n",
            "Feature:  262 : Degree of relevance:  1.234375\n",
            "Feature:  263 : Degree of relevance:  0.8101265822784811\n",
            "Feature:  264 : Degree of relevance:  0.8101265822784811\n",
            "Feature:  265 : Degree of relevance:  0.8101265822784811\n",
            "Feature:  266 : Degree of relevance:  1.234375\n",
            "Feature:  267 : Degree of relevance:  1.234375\n",
            "Feature:  268 : Degree of relevance:  1.234375\n",
            "Feature:  269 : Degree of relevance:  1.234375\n",
            "Feature:  270 : Degree of relevance:  1.234375\n",
            "Feature:  271 : Degree of relevance:  0.8101265822784811\n",
            "Feature:  272 : Degree of relevance:  0.8101265822784811\n",
            "Feature:  273 : Degree of relevance:  1.234375\n",
            "Feature:  274 : Degree of relevance:  0.06675237341772139\n",
            "Feature:  275 : Degree of relevance:  0.022250791139240486\n",
            "Feature:  276 : Degree of relevance:  0.8101265822784811\n",
            "Feature:  277 : Degree of relevance:  1.6202531645569622\n",
            "Feature:  278 : Degree of relevance:  0.3165875527426163\n",
            "Feature:  279 : Degree of relevance:  0.022250791139240486\n",
            "Feature:  280 : Degree of relevance:  0.022250791139240486\n",
            "Feature:  281 : Degree of relevance:  0.04450158227848097\n",
            "Feature:  282 : Degree of relevance:  0.04450158227848097\n",
            "Feature:  283 : Degree of relevance:  4.050632911392405\n",
            "Feature:  284 : Degree of relevance:  0.04450158227848097\n",
            "Feature:  285 : Degree of relevance:  3.2405063291139244\n",
            "Feature:  286 : Degree of relevance:  0.022250791139240486\n",
            "Feature:  287 : Degree of relevance:  2.46875\n",
            "Feature:  288 : Degree of relevance:  0.010284810126582215\n",
            "Feature:  289 : Degree of relevance:  0.6313785601265824\n",
            "Feature:  290 : Degree of relevance:  0.022250791139240486\n",
            "Feature:  291 : Degree of relevance:  0.3165875527426163\n",
            "Feature:  292 : Degree of relevance:  0.8101265822784811\n",
            "Feature:  293 : Degree of relevance:  0.022250791139240486\n",
            "Feature:  294 : Degree of relevance:  0.8101265822784811\n",
            "Feature:  295 : Degree of relevance:  0.8101265822784811\n",
            "Feature:  296 : Degree of relevance:  0.6331751054852326\n",
            "Feature:  297 : Degree of relevance:  0.15829377637130815\n",
            "Feature:  298 : Degree of relevance:  0.022250791139240486\n",
            "Feature:  299 : Degree of relevance:  4.050632911392405\n",
            "Feature:  300 : Degree of relevance:  0.04450158227848097\n",
            "Feature:  301 : Degree of relevance:  1.234375\n",
            "Feature:  302 : Degree of relevance:  2.014268761301989\n",
            "Feature:  303 : Degree of relevance:  0.15829377637130815\n",
            "Feature:  304 : Degree of relevance:  0.8101265822784811\n",
            "Feature:  305 : Degree of relevance:  2.4303797468354436\n",
            "Feature:  306 : Degree of relevance:  0.022250791139240486\n",
            "Feature:  307 : Degree of relevance:  1.6202531645569622\n",
            "Feature:  308 : Degree of relevance:  0.8101265822784811\n",
            "Feature:  309 : Degree of relevance:  8.911392405063292\n",
            "Feature:  310 : Degree of relevance:  0.8101265822784811\n",
            "Feature:  311 : Degree of relevance:  0.8101265822784811\n",
            "Feature:  312 : Degree of relevance:  1.6202531645569622\n",
            "Feature:  313 : Degree of relevance:  1.234375\n",
            "Feature:  314 : Degree of relevance:  1.234375\n",
            "Feature:  315 : Degree of relevance:  0.6331751054852326\n",
            "Feature:  316 : Degree of relevance:  0.022250791139240486\n",
            "Feature:  317 : Degree of relevance:  0.5825421940928268\n",
            "Feature:  318 : Degree of relevance:  0.022250791139240486\n",
            "Feature:  319 : Degree of relevance:  0.8101265822784811\n",
            "Feature:  320 : Degree of relevance:  0.5825421940928268\n",
            "Feature:  321 : Degree of relevance:  0.17031744462025328\n",
            "Feature:  322 : Degree of relevance:  0.8101265822784811\n",
            "Feature:  323 : Degree of relevance:  0.022250791139240486\n",
            "Feature:  324 : Degree of relevance:  0.4699762658227846\n",
            "Feature:  325 : Degree of relevance:  0.06675237341772139\n",
            "Feature:  326 : Degree of relevance:  1.6202531645569622\n",
            "Feature:  327 : Degree of relevance:  1.234375\n",
            "Feature:  328 : Degree of relevance:  0.8101265822784811\n",
            "Feature:  329 : Degree of relevance:  3.2405063291139244\n",
            "Feature:  330 : Degree of relevance:  1.234375\n",
            "Feature:  331 : Degree of relevance:  0.8101265822784811\n",
            "Feature:  332 : Degree of relevance:  0.022250791139240486\n",
            "Feature:  333 : Degree of relevance:  0.8101265822784811\n",
            "Feature:  334 : Degree of relevance:  0.046298127637130954\n",
            "Feature:  335 : Degree of relevance:  0.15829377637130815\n",
            "Feature:  336 : Degree of relevance:  1.234375\n",
            "Feature:  337 : Degree of relevance:  0.045727848101265886\n",
            "Feature:  338 : Degree of relevance:  0.8101265822784811\n",
            "Feature:  339 : Degree of relevance:  0.022250791139240486\n",
            "Feature:  340 : Degree of relevance:  0.4345332278481009\n",
            "Feature:  341 : Degree of relevance:  1.234375\n",
            "Feature:  342 : Degree of relevance:  0.8101265822784811\n",
            "Feature:  343 : Degree of relevance:  0.8101265822784811\n",
            "Feature:  344 : Degree of relevance:  0.15829377637130815\n",
            "Feature:  345 : Degree of relevance:  1.6202531645569622\n",
            "Feature:  346 : Degree of relevance:  0.8101265822784811\n",
            "Feature:  347 : Degree of relevance:  0.6313785601265824\n",
            "Feature:  348 : Degree of relevance:  0.8101265822784811\n",
            "Feature:  349 : Degree of relevance:  0.8101265822784811\n",
            "Feature:  350 : Degree of relevance:  0.6313785601265824\n",
            "Feature:  351 : Degree of relevance:  0.4699762658227846\n",
            "Feature:  352 : Degree of relevance:  1.234375\n",
            "Feature:  353 : Degree of relevance:  0.8101265822784811\n",
            "Feature:  354 : Degree of relevance:  0.8101265822784811\n",
            "Feature:  355 : Degree of relevance:  0.4699762658227846\n",
            "Feature:  356 : Degree of relevance:  0.022250791139240486\n",
            "Feature:  357 : Degree of relevance:  2.46875\n",
            "Feature:  358 : Degree of relevance:  0.15829377637130815\n",
            "Feature:  359 : Degree of relevance:  1.234375\n",
            "Feature:  360 : Degree of relevance:  0.8101265822784811\n",
            "Feature:  361 : Degree of relevance:  0.8101265822784811\n",
            "Feature:  362 : Degree of relevance:  1.234375\n",
            "Feature:  363 : Degree of relevance:  1.234375\n",
            "Feature:  364 : Degree of relevance:  1.7476265822784804\n",
            "Feature:  365 : Degree of relevance:  1.234375\n",
            "Feature:  366 : Degree of relevance:  1.6202531645569622\n",
            "Feature:  367 : Degree of relevance:  1.234375\n",
            "Feature:  368 : Degree of relevance:  1.234375\n",
            "Feature:  369 : Degree of relevance:  0.022250791139240486\n",
            "Feature:  370 : Degree of relevance:  0.8101265822784811\n",
            "Feature:  371 : Degree of relevance:  0.5825421940928268\n",
            "Feature:  372 : Degree of relevance:  1.234375\n",
            "Feature:  373 : Degree of relevance:  0.8101265822784811\n",
            "Feature:  374 : Degree of relevance:  0.8101265822784811\n",
            "Feature:  375 : Degree of relevance:  1.234375\n",
            "Feature:  376 : Degree of relevance:  3.703125\n",
            "Feature:  377 : Degree of relevance:  1.234375\n",
            "Feature:  378 : Degree of relevance:  1.234375\n",
            "Feature:  379 : Degree of relevance:  0.9399525316455692\n",
            "Feature:  380 : Degree of relevance:  1.234375\n",
            "Feature:  381 : Degree of relevance:  1.234375\n",
            "Feature:  382 : Degree of relevance:  0.8101265822784811\n",
            "Feature:  383 : Degree of relevance:  4.050632911392405\n",
            "Feature:  384 : Degree of relevance:  1.234375\n",
            "Feature:  385 : Degree of relevance:  0.8101265822784811\n",
            "Feature:  386 : Degree of relevance:  0.022250791139240486\n",
            "Feature:  387 : Degree of relevance:  1.234375\n",
            "Feature:  388 : Degree of relevance:  1.234375\n",
            "Feature:  389 : Degree of relevance:  2.46875\n",
            "Feature:  390 : Degree of relevance:  1.234375\n",
            "Feature:  391 : Degree of relevance:  1.234375\n",
            "Feature:  392 : Degree of relevance:  1.234375\n",
            "Feature:  393 : Degree of relevance:  1.1650843881856536\n",
            "Feature:  394 : Degree of relevance:  1.234375\n",
            "Feature:  395 : Degree of relevance:  3.703125\n",
            "Feature:  396 : Degree of relevance:  1.234375\n",
            "Feature:  397 : Degree of relevance:  3.703125\n",
            "Feature:  398 : Degree of relevance:  0.022250791139240486\n",
            "Feature:  399 : Degree of relevance:  0.8101265822784811\n",
            "Feature:  400 : Degree of relevance:  1.234375\n",
            "Feature:  401 : Degree of relevance:  0.8101265822784811\n",
            "Feature:  402 : Degree of relevance:  1.234375\n",
            "Feature:  403 : Degree of relevance:  1.234375\n",
            "Feature:  404 : Degree of relevance:  0.3165875527426163\n",
            "Feature:  405 : Degree of relevance:  0.8101265822784811\n",
            "Feature:  406 : Degree of relevance:  0.8101265822784811\n",
            "Feature:  407 : Degree of relevance:  1.234375\n",
            "Feature:  408 : Degree of relevance:  0.8101265822784811\n",
            "Feature:  409 : Degree of relevance:  1.47987539556962\n",
            "Feature:  410 : Degree of relevance:  0.8101265822784811\n",
            "Feature:  411 : Degree of relevance:  0.8101265822784811\n",
            "Feature:  412 : Degree of relevance:  3.703125\n",
            "Feature:  413 : Degree of relevance:  0.8101265822784811\n",
            "Feature:  414 : Degree of relevance:  1.234375\n",
            "Feature:  415 : Degree of relevance:  1.234375\n",
            "Feature:  416 : Degree of relevance:  0.8101265822784811\n",
            "Feature:  417 : Degree of relevance:  0.045727848101265886\n",
            "Feature:  418 : Degree of relevance:  1.234375\n",
            "Feature:  419 : Degree of relevance:  0.8101265822784811\n",
            "Feature:  420 : Degree of relevance:  1.47987539556962\n",
            "Feature:  421 : Degree of relevance:  0.8101265822784811\n",
            "Feature:  422 : Degree of relevance:  1.234375\n",
            "Feature:  423 : Degree of relevance:  0.04450158227848097\n",
            "Feature:  424 : Degree of relevance:  1.234375\n",
            "Feature:  425 : Degree of relevance:  0.8101265822784811\n",
            "Feature:  426 : Degree of relevance:  0.8101265822784811\n",
            "Feature:  427 : Degree of relevance:  0.8101265822784811\n",
            "Feature:  428 : Degree of relevance:  1.6202531645569622\n",
            "Feature:  429 : Degree of relevance:  0.022250791139240486\n",
            "Feature:  430 : Degree of relevance:  1.234375\n",
            "Feature:  431 : Degree of relevance:  0.8101265822784811\n",
            "Feature:  432 : Degree of relevance:  1.234375\n",
            "Feature:  433 : Degree of relevance:  1.234375\n",
            "Feature:  434 : Degree of relevance:  0.022250791139240486\n",
            "Feature:  435 : Degree of relevance:  0.8101265822784811\n",
            "Feature:  436 : Degree of relevance:  3.703125\n",
            "Feature:  437 : Degree of relevance:  1.6202531645569622\n",
            "Feature:  438 : Degree of relevance:  1.234375\n",
            "Feature:  439 : Degree of relevance:  0.022250791139240486\n",
            "Feature:  440 : Degree of relevance:  0.8101265822784811\n",
            "Feature:  441 : Degree of relevance:  1.6202531645569622\n",
            "Feature:  442 : Degree of relevance:  2.46875\n",
            "Feature:  443 : Degree of relevance:  1.234375\n",
            "Feature:  444 : Degree of relevance:  1.234375\n",
            "Feature:  445 : Degree of relevance:  1.234375\n",
            "Feature:  446 : Degree of relevance:  0.8101265822784811\n",
            "Feature:  447 : Degree of relevance:  1.876945082545368\n",
            "Feature:  448 : Degree of relevance:  6.424183169124369\n",
            "Feature:  449 : Degree of relevance:  1.876945082545368\n",
            "Feature:  450 : Degree of relevance:  6.424183169124369\n",
            "Feature:  451 : Degree of relevance:  0.350887451843698\n",
            "Feature:  452 : Degree of relevance:  2.5255142405063298\n",
            "Feature:  453 : Degree of relevance:  1.8799050632911385\n",
            "Feature:  454 : Degree of relevance:  6.788065099457507\n",
            "Feature:  455 : Degree of relevance:  4.449141048824595\n",
            "Feature:  456 : Degree of relevance:  0.3387841885171795\n",
            "Feature:  457 : Degree of relevance:  6.790109952208731\n",
            "Feature:  458 : Degree of relevance:  0.3109880450070318\n",
            "Feature:  459 : Degree of relevance:  11.128400015069317\n",
            "Feature:  460 : Degree of relevance:  0.45824826459779544\n",
            "Feature:  461 : Degree of relevance:  7.3993769778481\n",
            "Feature:  462 : Degree of relevance:  11.979852320675105\n",
            "Feature:  463 : Degree of relevance:  8.725696588453221\n",
            "Feature:  464 : Degree of relevance:  0.8101265822784811\n",
            "Feature:  465 : Degree of relevance:  0.32314604728922924\n",
            "Feature:  466 : Degree of relevance:  2.95975079113924\n",
            "Feature:  467 : Degree of relevance:  0.03421142661648998\n",
            "Feature:  468 : Degree of relevance:  0.045727848101265886\n",
            "Feature:  469 : Degree of relevance:  12.72039608003267\n",
            "Feature:  470 : Degree of relevance:  36.105468750000014\n",
            "Feature:  471 : Degree of relevance:  4.285337552742616\n",
            "Feature:  472 : Degree of relevance:  5.552812939521798\n",
            "Feature:  473 : Degree of relevance:  0.10645569620253158\n",
            "Feature:  474 : Degree of relevance:  6.9159647244973925\n",
            "Feature:  475 : Degree of relevance:  4.588421444527177\n",
            "Feature:  476 : Degree of relevance:  4.9375\n",
            "Feature:  477 : Degree of relevance:  7.090014064697607\n",
            "Feature:  478 : Degree of relevance:  7.40625\n",
            "Feature:  479 : Degree of relevance:  0.8101265822784811\n",
            "Feature:  480 : Degree of relevance:  1.6202531645569622\n",
            "Feature:  481 : Degree of relevance:  0.5825421940928268\n",
            "Feature:  482 : Degree of relevance:  2.46875\n",
            "Feature:  483 : Degree of relevance:  0.5825421940928268\n",
            "Feature:  484 : Degree of relevance:  2.46875\n",
            "Feature:  485 : Degree of relevance:  3.703125\n",
            "Feature:  486 : Degree of relevance:  1.234375\n",
            "Feature:  487 : Degree of relevance:  1.234375\n",
            "Feature:  488 : Degree of relevance:  2.46875\n",
            "Feature:  489 : Degree of relevance:  35.67047039261962\n",
            "Feature:  490 : Degree of relevance:  0.26418233432613597\n",
            "Feature:  491 : Degree of relevance:  0.16538000204164943\n",
            "Feature:  492 : Degree of relevance:  4.303891155896069\n",
            "Feature:  493 : Degree of relevance:  4.749660940325496\n",
            "Feature:  494 : Degree of relevance:  7.2231671940928255\n",
            "Feature:  495 : Degree of relevance:  10.656658755274261\n",
            "Feature:  496 : Degree of relevance:  13.101392970162745\n",
            "Feature:  497 : Degree of relevance:  8.640625\n",
            "Feature:  498 : Degree of relevance:  2.46875\n",
            "Feature:  499 : Degree of relevance:  2.512025316455696\n",
            "Feature:  500 : Degree of relevance:  13.578125\n",
            "Feature:  501 : Degree of relevance:  4.749660940325496\n",
            "Feature:  502 : Degree of relevance:  3.703125\n",
            "Feature:  503 : Degree of relevance:  2.46875\n",
            "Feature:  504 : Degree of relevance:  2.46875\n",
            "Feature:  505 : Degree of relevance:  1.234375\n",
            "Feature:  506 : Degree of relevance:  1.234375\n",
            "Feature:  507 : Degree of relevance:  0.022250791139240486\n",
            "Feature:  508 : Degree of relevance:  1.234375\n",
            "Feature:  509 : Degree of relevance:  0.9198954541750439\n",
            "Feature:  510 : Degree of relevance:  1.0935491878713492\n",
            "Feature:  511 : Degree of relevance:  0.35064563322943737\n",
            "Feature:  512 : Degree of relevance:  4.501837484687629\n",
            "Feature:  513 : Degree of relevance:  15.146097046413502\n",
            "Feature:  514 : Degree of relevance:  0.8101265822784811\n",
            "Feature:  515 : Degree of relevance:  0.8101265822784811\n",
            "Feature:  516 : Degree of relevance:  1.234375\n",
            "Feature:  517 : Degree of relevance:  1.234375\n",
            "Feature:  518 : Degree of relevance:  1.234375\n",
            "Feature:  519 : Degree of relevance:  0.8101265822784811\n",
            "Feature:  520 : Degree of relevance:  1.234375\n",
            "Feature:  521 : Degree of relevance:  0.5825421940928268\n",
            "Feature:  522 : Degree of relevance:  1.234375\n",
            "Feature:  523 : Degree of relevance:  1.234375\n",
            "Feature:  524 : Degree of relevance:  2.46875\n",
            "Feature:  525 : Degree of relevance:  1.234375\n",
            "Feature:  526 : Degree of relevance:  2.512025316455696\n",
            "Feature:  527 : Degree of relevance:  0.8101265822784811\n",
            "Feature:  528 : Degree of relevance:  1.47987539556962\n",
            "Feature:  529 : Degree of relevance:  0.8101265822784811\n",
            "Feature:  530 : Degree of relevance:  0.8101265822784811\n",
            "Feature:  531 : Degree of relevance:  2.1598242540687154\n",
            "Feature:  532 : Degree of relevance:  1.234375\n",
            "Feature:  533 : Degree of relevance:  1.234375\n",
            "Feature:  534 : Degree of relevance:  0.8101265822784811\n",
            "Feature:  535 : Degree of relevance:  0.022250791139240486\n",
            "Feature:  536 : Degree of relevance:  1.234375\n",
            "Feature:  537 : Degree of relevance:  0.005767405063291157\n",
            "Feature:  538 : Degree of relevance:  2.4303797468354436\n",
            "Feature:  539 : Degree of relevance:  0.022250791139240486\n",
            "Feature:  540 : Degree of relevance:  0.8101265822784811\n",
            "Feature:  541 : Degree of relevance:  1.2663502109704652\n",
            "Feature:  542 : Degree of relevance:  1.6202531645569622\n",
            "Feature:  543 : Degree of relevance:  0.022250791139240486\n",
            "Feature:  544 : Degree of relevance:  1.6202531645569622\n",
            "Feature:  545 : Degree of relevance:  2.4303797468354436\n",
            "Feature:  546 : Degree of relevance:  1.6202531645569622\n",
            "Feature:  547 : Degree of relevance:  6.438307621308018\n",
            "Feature:  548 : Degree of relevance:  0.8101265822784811\n",
            "Feature:  549 : Degree of relevance:  0.15829377637130815\n",
            "Feature:  550 : Degree of relevance:  0.022250791139240486\n",
            "Feature:  551 : Degree of relevance:  1.234375\n",
            "Feature:  552 : Degree of relevance:  0.8101265822784811\n",
            "Feature:  553 : Degree of relevance:  0.022250791139240486\n",
            "Feature:  554 : Degree of relevance:  1.234375\n",
            "Feature:  555 : Degree of relevance:  3.788271360759496\n",
            "Feature:  556 : Degree of relevance:  0.022250791139240486\n",
            "Feature:  557 : Degree of relevance:  0.8101265822784811\n",
            "Feature:  558 : Degree of relevance:  0.8101265822784811\n",
            "Feature:  559 : Degree of relevance:  0.8101265822784811\n",
            "Feature:  560 : Degree of relevance:  2.4303797468354436\n",
            "Feature:  561 : Degree of relevance:  0.8101265822784811\n",
            "Feature:  562 : Degree of relevance:  5.658821202531646\n",
            "Feature:  563 : Degree of relevance:  2.46875\n",
            "Feature:  564 : Degree of relevance:  1.234375\n",
            "Feature:  565 : Degree of relevance:  0.8101265822784811\n",
            "Feature:  566 : Degree of relevance:  1.234375\n",
            "Feature:  567 : Degree of relevance:  6.447462108594273\n",
            "Feature:  568 : Degree of relevance:  1.234375\n",
            "Feature:  569 : Degree of relevance:  1.234375\n",
            "Feature:  570 : Degree of relevance:  0.8101265822784811\n",
            "Feature:  571 : Degree of relevance:  1.6202531645569622\n",
            "Feature:  572 : Degree of relevance:  0.04450158227848097\n",
            "Feature:  573 : Degree of relevance:  0.8101265822784811\n",
            "Feature:  574 : Degree of relevance:  0.8101265822784811\n",
            "Feature:  575 : Degree of relevance:  1.234375\n",
            "Feature:  576 : Degree of relevance:  0.8101265822784811\n",
            "Feature:  577 : Degree of relevance:  0.8101265822784811\n",
            "Feature:  578 : Degree of relevance:  0.15829377637130815\n",
            "Feature:  579 : Degree of relevance:  1.234375\n",
            "Feature:  580 : Degree of relevance:  1.2627571202531649\n",
            "Feature:  581 : Degree of relevance:  1.234375\n",
            "Feature:  582 : Degree of relevance:  1.6202531645569622\n",
            "Feature:  583 : Degree of relevance:  1.234375\n",
            "Feature:  584 : Degree of relevance:  0.8101265822784811\n",
            "Feature:  585 : Degree of relevance:  0.43444846292947537\n",
            "Feature:  586 : Degree of relevance:  1.6202531645569622\n",
            "Feature:  587 : Degree of relevance:  1.234375\n",
            "Feature:  588 : Degree of relevance:  0.8101265822784811\n",
            "Feature:  589 : Degree of relevance:  3.081049389692587\n",
            "Feature:  590 : Degree of relevance:  0.8101265822784811\n",
            "Feature:  591 : Degree of relevance:  1.234375\n",
            "Feature:  592 : Degree of relevance:  0.08900316455696194\n",
            "Feature:  593 : Degree of relevance:  1.234375\n",
            "Feature:  594 : Degree of relevance:  0.8101265822784811\n",
            "Feature:  595 : Degree of relevance:  1.234375\n",
            "Feature:  596 : Degree of relevance:  2.46875\n",
            "Feature:  597 : Degree of relevance:  0.7415235081374325\n",
            "Feature:  598 : Degree of relevance:  0.8101265822784811\n",
            "Feature:  599 : Degree of relevance:  1.234375\n",
            "Feature:  600 : Degree of relevance:  1.234375\n",
            "Feature:  601 : Degree of relevance:  0.6313785601265824\n",
            "Feature:  602 : Degree of relevance:  0.8101265822784811\n",
            "Feature:  603 : Degree of relevance:  1.234375\n",
            "Feature:  604 : Degree of relevance:  0.022250791139240486\n",
            "Feature:  605 : Degree of relevance:  0.022250791139240486\n",
            "Feature:  606 : Degree of relevance:  0.06675237341772139\n",
            "Feature:  607 : Degree of relevance:  0.8101265822784811\n",
            "Feature:  608 : Degree of relevance:  1.234375\n",
            "Feature:  609 : Degree of relevance:  1.234375\n",
            "Feature:  610 : Degree of relevance:  1.234375\n",
            "Feature:  611 : Degree of relevance:  0.5825421940928268\n",
            "Feature:  612 : Degree of relevance:  1.234375\n",
            "Feature:  613 : Degree of relevance:  1.234375\n",
            "Feature:  614 : Degree of relevance:  1.234375\n",
            "Feature:  615 : Degree of relevance:  1.234375\n",
            "Feature:  616 : Degree of relevance:  0.17031744462025328\n",
            "Feature:  617 : Degree of relevance:  1.234375\n",
            "Feature:  618 : Degree of relevance:  0.8101265822784811\n",
            "Feature:  619 : Degree of relevance:  0.15829377637130815\n",
            "Feature:  620 : Degree of relevance:  1.234375\n",
            "Feature:  621 : Degree of relevance:  1.234375\n",
            "Feature:  622 : Degree of relevance:  1.234375\n",
            "Feature:  623 : Degree of relevance:  0.5825421940928268\n",
            "Feature:  624 : Degree of relevance:  0.8101265822784811\n",
            "Feature:  625 : Degree of relevance:  0.8101265822784811\n",
            "Feature:  626 : Degree of relevance:  1.234375\n",
            "Feature:  627 : Degree of relevance:  1.6202531645569622\n",
            "Feature:  628 : Degree of relevance:  0.8101265822784811\n",
            "Feature:  629 : Degree of relevance:  0.15829377637130815\n",
            "Feature:  630 : Degree of relevance:  1.234375\n",
            "Feature:  631 : Degree of relevance:  1.234375\n",
            "Feature:  632 : Degree of relevance:  1.234375\n",
            "Feature:  633 : Degree of relevance:  2.46875\n",
            "Feature:  634 : Degree of relevance:  0.022250791139240486\n",
            "Feature:  635 : Degree of relevance:  1.234375\n",
            "Feature:  636 : Degree of relevance:  0.8101265822784811\n",
            "Feature:  637 : Degree of relevance:  0.8101265822784811\n",
            "Feature:  638 : Degree of relevance:  0.8101265822784811\n",
            "Feature:  639 : Degree of relevance:  1.1488792194092827\n",
            "Feature:  640 : Degree of relevance:  11.985020403064627\n",
            "Feature:  641 : Degree of relevance:  3.2405063291139244\n",
            "Feature:  642 : Degree of relevance:  3.2405063291139244\n",
            "Feature:  643 : Degree of relevance:  3.2405063291139244\n",
            "Feature:  644 : Degree of relevance:  4.860759493670887\n",
            "Feature:  645 : Degree of relevance:  0.06675237341772139\n",
            "Feature:  646 : Degree of relevance:  0.04450158227848097\n",
            "Feature:  647 : Degree of relevance:  0.8101265822784811\n",
            "Feature:  648 : Degree of relevance:  1.6202531645569622\n",
            "Feature:  649 : Degree of relevance:  0.8101265822784811\n",
            "Feature:  650 : Degree of relevance:  0.8101265822784811\n",
            "Feature:  651 : Degree of relevance:  0.8101265822784811\n",
            "Feature:  652 : Degree of relevance:  1.234375\n",
            "Feature:  653 : Degree of relevance:  1.234375\n",
            "Feature:  654 : Degree of relevance:  1.6202531645569622\n",
            "Feature:  655 : Degree of relevance:  0.8101265822784811\n",
            "Feature:  656 : Degree of relevance:  0.022250791139240486\n",
            "Feature:  657 : Degree of relevance:  0.15829377637130815\n",
            "Feature:  658 : Degree of relevance:  1.6202531645569622\n",
            "Feature:  659 : Degree of relevance:  0.8101265822784811\n",
            "Feature:  660 : Degree of relevance:  1.234375\n",
            "Feature:  661 : Degree of relevance:  1.6202531645569622\n",
            "Feature:  662 : Degree of relevance:  0.022250791139240486\n",
            "Feature:  663 : Degree of relevance:  0.8101265822784811\n",
            "Feature:  664 : Degree of relevance:  0.8101265822784811\n",
            "Feature:  665 : Degree of relevance:  0.022250791139240486\n",
            "Feature:  666 : Degree of relevance:  0.8101265822784811\n",
            "Feature:  667 : Degree of relevance:  0.8101265822784811\n",
            "Feature:  668 : Degree of relevance:  0.8101265822784811\n",
            "Feature:  669 : Degree of relevance:  0.8101265822784811\n",
            "Feature:  670 : Degree of relevance:  0.022250791139240486\n",
            "Feature:  671 : Degree of relevance:  2.4303797468354436\n",
            "Feature:  672 : Degree of relevance:  0.8101265822784811\n",
            "Feature:  673 : Degree of relevance:  1.234375\n",
            "Feature:  674 : Degree of relevance:  0.8101265822784811\n",
            "Feature:  675 : Degree of relevance:  1.6202531645569622\n",
            "Feature:  676 : Degree of relevance:  1.6202531645569622\n",
            "Feature:  677 : Degree of relevance:  0.8101265822784811\n",
            "Feature:  678 : Degree of relevance:  0.8101265822784811\n",
            "Feature:  679 : Degree of relevance:  0.8101265822784811\n",
            "Feature:  680 : Degree of relevance:  2.46875\n",
            "Feature:  681 : Degree of relevance:  0.3165875527426163\n",
            "Feature:  682 : Degree of relevance:  0.8101265822784811\n",
            "Feature:  683 : Degree of relevance:  1.234375\n",
            "Feature:  684 : Degree of relevance:  0.8101265822784811\n",
            "Feature:  685 : Degree of relevance:  0.8101265822784811\n",
            "Feature:  686 : Degree of relevance:  0.8101265822784811\n",
            "Feature:  687 : Degree of relevance:  0.8101265822784811\n",
            "Feature:  688 : Degree of relevance:  0.8101265822784811\n",
            "Feature:  689 : Degree of relevance:  0.8101265822784811\n",
            "Feature:  690 : Degree of relevance:  0.5825421940928268\n",
            "Feature:  691 : Degree of relevance:  0.8101265822784811\n",
            "Feature:  692 : Degree of relevance:  1.234375\n",
            "Feature:  693 : Degree of relevance:  1.234375\n",
            "Feature:  694 : Degree of relevance:  0.8101265822784811\n",
            "Feature:  695 : Degree of relevance:  0.8101265822784811\n",
            "Feature:  696 : Degree of relevance:  0.8101265822784811\n",
            "Feature:  697 : Degree of relevance:  0.8101265822784811\n",
            "Feature:  698 : Degree of relevance:  0.06675237341772139\n",
            "Feature:  699 : Degree of relevance:  0.8101265822784811\n",
            "Feature:  700 : Degree of relevance:  0.8101265822784811\n",
            "Feature:  701 : Degree of relevance:  1.234375\n",
            "Feature:  702 : Degree of relevance:  0.8101265822784811\n",
            "Feature:  703 : Degree of relevance:  0.8101265822784811\n",
            "Feature:  704 : Degree of relevance:  1.234375\n",
            "Feature:  705 : Degree of relevance:  0.8101265822784811\n",
            "Feature:  706 : Degree of relevance:  0.8101265822784811\n",
            "Feature:  707 : Degree of relevance:  0.8101265822784811\n",
            "Feature:  708 : Degree of relevance:  7.40625\n",
            "Feature:  709 : Degree of relevance:  1.234375\n",
            "Feature:  710 : Degree of relevance:  0.8101265822784811\n",
            "Feature:  711 : Degree of relevance:  0.8101265822784811\n",
            "Feature:  712 : Degree of relevance:  1.234375\n",
            "Feature:  713 : Degree of relevance:  0.022250791139240486\n",
            "Feature:  714 : Degree of relevance:  0.8101265822784811\n",
            "Feature:  715 : Degree of relevance:  0.8101265822784811\n",
            "Feature:  716 : Degree of relevance:  0.5825421940928268\n",
            "Feature:  717 : Degree of relevance:  0.8101265822784811\n",
            "Feature:  718 : Degree of relevance:  0.022250791139240486\n",
            "Feature:  719 : Degree of relevance:  1.234375\n",
            "Feature:  720 : Degree of relevance:  0.8101265822784811\n",
            "Feature:  721 : Degree of relevance:  4.749660940325496\n",
            "Feature:  722 : Degree of relevance:  0.8101265822784811\n",
            "Feature:  723 : Degree of relevance:  2.46875\n",
            "Feature:  724 : Degree of relevance:  2.46875\n",
            "Feature:  725 : Degree of relevance:  1.234375\n",
            "Feature:  726 : Degree of relevance:  1.234375\n",
            "Feature:  727 : Degree of relevance:  0.8101265822784811\n",
            "Feature:  728 : Degree of relevance:  1.234375\n",
            "Feature:  729 : Degree of relevance:  1.234375\n",
            "Feature:  730 : Degree of relevance:  1.234375\n",
            "Feature:  731 : Degree of relevance:  1.234375\n",
            "Feature:  732 : Degree of relevance:  1.234375\n",
            "Feature:  733 : Degree of relevance:  1.234375\n",
            "Feature:  734 : Degree of relevance:  0.8101265822784811\n",
            "Feature:  735 : Degree of relevance:  1.234375\n",
            "Feature:  736 : Degree of relevance:  0.8101265822784811\n",
            "Feature:  737 : Degree of relevance:  0.8101265822784811\n",
            "Feature:  738 : Degree of relevance:  1.234375\n",
            "Feature:  739 : Degree of relevance:  1.234375\n",
            "Feature:  740 : Degree of relevance:  0.022250791139240486\n",
            "Feature:  741 : Degree of relevance:  1.234375\n",
            "Feature:  742 : Degree of relevance:  1.234375\n",
            "Feature:  743 : Degree of relevance:  1.234375\n",
            "Feature:  744 : Degree of relevance:  1.234375\n",
            "Feature:  745 : Degree of relevance:  1.234375\n",
            "Feature:  746 : Degree of relevance:  1.234375\n",
            "Feature:  747 : Degree of relevance:  0.04450158227848097\n",
            "Feature:  748 : Degree of relevance:  0.8101265822784811\n",
            "Feature:  749 : Degree of relevance:  0.8101265822784811\n",
            "Feature:  750 : Degree of relevance:  1.234375\n",
            "Feature:  751 : Degree of relevance:  0.8101265822784811\n",
            "Feature:  752 : Degree of relevance:  1.234375\n",
            "Feature:  753 : Degree of relevance:  1.234375\n",
            "Feature:  754 : Degree of relevance:  1.234375\n",
            "Feature:  755 : Degree of relevance:  0.8101265822784811\n",
            "Feature:  756 : Degree of relevance:  0.8101265822784811\n",
            "Feature:  757 : Degree of relevance:  1.234375\n",
            "Feature:  758 : Degree of relevance:  1.234375\n",
            "Feature:  759 : Degree of relevance:  1.234375\n",
            "Feature:  760 : Degree of relevance:  1.234375\n",
            "Feature:  761 : Degree of relevance:  1.234375\n",
            "Feature:  762 : Degree of relevance:  1.234375\n",
            "Feature:  763 : Degree of relevance:  1.234375\n",
            "Feature:  764 : Degree of relevance:  1.234375\n",
            "Feature:  765 : Degree of relevance:  1.234375\n",
            "Feature:  766 : Degree of relevance:  1.234375\n",
            "Feature:  767 : Degree of relevance:  0.8101265822784811\n",
            "Feature:  768 : Degree of relevance:  1.234375\n",
            "Feature:  769 : Degree of relevance:  1.234375\n",
            "Feature:  770 : Degree of relevance:  1.234375\n",
            "Feature:  771 : Degree of relevance:  1.234375\n",
            "Feature:  772 : Degree of relevance:  0.8101265822784811\n",
            "Feature:  773 : Degree of relevance:  1.234375\n",
            "Feature:  774 : Degree of relevance:  0.8101265822784811\n",
            "Feature:  775 : Degree of relevance:  1.234375\n",
            "Feature:  776 : Degree of relevance:  1.234375\n",
            "Feature:  777 : Degree of relevance:  1.234375\n",
            "Feature:  778 : Degree of relevance:  1.234375\n",
            "Feature:  779 : Degree of relevance:  1.234375\n",
            "Feature:  780 : Degree of relevance:  0.8101265822784811\n",
            "Feature:  781 : Degree of relevance:  1.234375\n",
            "Feature:  782 : Degree of relevance:  3.703125\n",
            "Feature:  783 : Degree of relevance:  2.46875\n",
            "Feature:  784 : Degree of relevance:  1.234375\n",
            "Feature:  785 : Degree of relevance:  1.234375\n",
            "Feature:  786 : Degree of relevance:  1.234375\n",
            "Feature:  787 : Degree of relevance:  0.8101265822784811\n",
            "Feature:  788 : Degree of relevance:  1.6202531645569622\n",
            "Feature:  789 : Degree of relevance:  1.234375\n",
            "Feature:  790 : Degree of relevance:  1.234375\n",
            "Feature:  791 : Degree of relevance:  0.8101265822784811\n",
            "Feature:  792 : Degree of relevance:  0.8101265822784811\n",
            "Feature:  793 : Degree of relevance:  1.234375\n",
            "Feature:  794 : Degree of relevance:  1.234375\n",
            "Feature:  795 : Degree of relevance:  3.703125\n",
            "Feature:  796 : Degree of relevance:  1.234375\n",
            "Feature:  797 : Degree of relevance:  0.8101265822784811\n",
            "Feature:  798 : Degree of relevance:  1.234375\n",
            "Feature:  799 : Degree of relevance:  1.234375\n",
            "Feature:  800 : Degree of relevance:  1.234375\n",
            "Feature:  801 : Degree of relevance:  1.234375\n",
            "Feature:  802 : Degree of relevance:  1.234375\n",
            "Feature:  803 : Degree of relevance:  1.234375\n",
            "Feature:  804 : Degree of relevance:  1.234375\n",
            "Feature:  805 : Degree of relevance:  1.234375\n",
            "Feature:  806 : Degree of relevance:  1.234375\n",
            "Feature:  807 : Degree of relevance:  1.234375\n",
            "Feature:  808 : Degree of relevance:  1.234375\n",
            "Feature:  809 : Degree of relevance:  1.234375\n"
          ]
        }
      ]
    },
    {
      "cell_type": "markdown",
      "source": [
        "Define a class, called Lunch, with __init__() method should have two arguments, self and menu, \n",
        "where menu is a string. Add a method called menu_price. It will involve an if statement: if \n",
        "\"menu 1\" then print \"Price 12.00\", if \"menu 2\" then print \"Price 13.40\", else print \"Error in \n",
        "menu\". Test with Paul = Lunch(\"menu 1\") and call Paul.menu_price(). "
      ],
      "metadata": {
        "id": "QoeJFzIpk3d-"
      }
    },
    {
      "cell_type": "code",
      "source": [
        "class Lunch:\n",
        "    def __init__(self, menu):\n",
        "        self.menu = int(menu.strip()[-1])\n",
        "\n",
        "    def menu_price(self):\n",
        "        if (self.menu == 1):\n",
        "            print(\"Price 12.00\")\n",
        "        elif (self.menu == 2):\n",
        "            print(\"Price 13.40\")\n",
        "        else:\n",
        "            print(\"Error in menu.\")\n",
        "\n",
        "Paul = Lunch(\"menu 1\")\n",
        "Paul.menu_price()"
      ],
      "metadata": {
        "colab": {
          "base_uri": "https://localhost:8080/"
        },
        "id": "y2wK9tKLk4-W",
        "outputId": "c32b4482-50d7-4934-939d-e7f3e0844318"
      },
      "execution_count": null,
      "outputs": [
        {
          "output_type": "stream",
          "name": "stdout",
          "text": [
            "Price 12.00\n"
          ]
        }
      ]
    },
    {
      "cell_type": "markdown",
      "source": [
        "In the Kaggle insurance data set (https://www.kaggle.com/c/prudential-life-insurance-\n",
        "assessment/data), the Response column is the output variable and the rest are input variables. \n",
        "Perform the following: "
      ],
      "metadata": {
        "id": "KhtQIeOdlVzg"
      }
    },
    {
      "cell_type": "markdown",
      "source": [
        "• Fill in the missing values applying an appropriate technique. "
      ],
      "metadata": {
        "id": "qC8lxGmYlYOu"
      }
    },
    {
      "cell_type": "code",
      "source": [
        "PLI_data = pd.read_csv(\"/content/train.csv\")"
      ],
      "metadata": {
        "id": "J6H2lkdTlaSO"
      },
      "execution_count": null,
      "outputs": []
    },
    {
      "cell_type": "code",
      "source": [
        "PLI_data"
      ],
      "metadata": {
        "colab": {
          "base_uri": "https://localhost:8080/",
          "height": 488
        },
        "id": "6NmokIGsmpyq",
        "outputId": "2110da5e-c73d-4b86-aa09-b17cdb4b281b"
      },
      "execution_count": null,
      "outputs": [
        {
          "output_type": "execute_result",
          "data": {
            "text/plain": [
              "          Id  Product_Info_1 Product_Info_2  Product_Info_3  Product_Info_4  \\\n",
              "0          2               1             D3              10        0.076923   \n",
              "1          5               1             A1              26        0.076923   \n",
              "2          6               1             E1              26        0.076923   \n",
              "3          7               1             D4              10        0.487179   \n",
              "4          8               1             D2              26        0.230769   \n",
              "...      ...             ...            ...             ...             ...   \n",
              "59376  79142               1             D1              10        0.230769   \n",
              "59377  79143               1             D3              26        0.230769   \n",
              "59378  79144               1             E1              26        0.076923   \n",
              "59379  79145               1             D2              10        0.230769   \n",
              "59380  79146               1             A8              26        0.076923   \n",
              "\n",
              "       Product_Info_5  Product_Info_6  Product_Info_7   Ins_Age        Ht  \\\n",
              "0                   2               1               1  0.641791  0.581818   \n",
              "1                   2               3               1  0.059701  0.600000   \n",
              "2                   2               3               1  0.029851  0.745455   \n",
              "3                   2               3               1  0.164179  0.672727   \n",
              "4                   2               3               1  0.417910  0.654545   \n",
              "...               ...             ...             ...       ...       ...   \n",
              "59376               2               3               1  0.074627  0.709091   \n",
              "59377               2               3               1  0.432836  0.800000   \n",
              "59378               2               3               1  0.104478  0.745455   \n",
              "59379               2               3               1  0.507463  0.690909   \n",
              "59380               2               3               1  0.447761  0.781818   \n",
              "\n",
              "       ...  Medical_Keyword_40  Medical_Keyword_41  Medical_Keyword_42  \\\n",
              "0      ...                   0                   0                   0   \n",
              "1      ...                   0                   0                   0   \n",
              "2      ...                   0                   0                   0   \n",
              "3      ...                   0                   0                   0   \n",
              "4      ...                   0                   0                   0   \n",
              "...    ...                 ...                 ...                 ...   \n",
              "59376  ...                   0                   0                   0   \n",
              "59377  ...                   0                   0                   0   \n",
              "59378  ...                   0                   0                   0   \n",
              "59379  ...                   1                   0                   0   \n",
              "59380  ...                   0                   0                   0   \n",
              "\n",
              "       Medical_Keyword_43  Medical_Keyword_44  Medical_Keyword_45  \\\n",
              "0                       0                   0                   0   \n",
              "1                       0                   0                   0   \n",
              "2                       0                   0                   0   \n",
              "3                       0                   0                   0   \n",
              "4                       0                   0                   0   \n",
              "...                   ...                 ...                 ...   \n",
              "59376                   0                   0                   0   \n",
              "59377                   0                   0                   0   \n",
              "59378                   0                   0                   0   \n",
              "59379                   0                   0                   0   \n",
              "59380                   0                   0                   0   \n",
              "\n",
              "       Medical_Keyword_46  Medical_Keyword_47  Medical_Keyword_48  Response  \n",
              "0                       0                   0                   0         8  \n",
              "1                       0                   0                   0         4  \n",
              "2                       0                   0                   0         8  \n",
              "3                       0                   0                   0         8  \n",
              "4                       0                   0                   0         8  \n",
              "...                   ...                 ...                 ...       ...  \n",
              "59376                   0                   0                   0         4  \n",
              "59377                   0                   0                   0         7  \n",
              "59378                   0                   0                   0         8  \n",
              "59379                   0                   0                   0         8  \n",
              "59380                   0                   0                   0         7  \n",
              "\n",
              "[59381 rows x 128 columns]"
            ],
            "text/html": [
              "\n",
              "  <div id=\"df-53325636-5371-496d-ba55-94f9d9a3024c\">\n",
              "    <div class=\"colab-df-container\">\n",
              "      <div>\n",
              "<style scoped>\n",
              "    .dataframe tbody tr th:only-of-type {\n",
              "        vertical-align: middle;\n",
              "    }\n",
              "\n",
              "    .dataframe tbody tr th {\n",
              "        vertical-align: top;\n",
              "    }\n",
              "\n",
              "    .dataframe thead th {\n",
              "        text-align: right;\n",
              "    }\n",
              "</style>\n",
              "<table border=\"1\" class=\"dataframe\">\n",
              "  <thead>\n",
              "    <tr style=\"text-align: right;\">\n",
              "      <th></th>\n",
              "      <th>Id</th>\n",
              "      <th>Product_Info_1</th>\n",
              "      <th>Product_Info_2</th>\n",
              "      <th>Product_Info_3</th>\n",
              "      <th>Product_Info_4</th>\n",
              "      <th>Product_Info_5</th>\n",
              "      <th>Product_Info_6</th>\n",
              "      <th>Product_Info_7</th>\n",
              "      <th>Ins_Age</th>\n",
              "      <th>Ht</th>\n",
              "      <th>...</th>\n",
              "      <th>Medical_Keyword_40</th>\n",
              "      <th>Medical_Keyword_41</th>\n",
              "      <th>Medical_Keyword_42</th>\n",
              "      <th>Medical_Keyword_43</th>\n",
              "      <th>Medical_Keyword_44</th>\n",
              "      <th>Medical_Keyword_45</th>\n",
              "      <th>Medical_Keyword_46</th>\n",
              "      <th>Medical_Keyword_47</th>\n",
              "      <th>Medical_Keyword_48</th>\n",
              "      <th>Response</th>\n",
              "    </tr>\n",
              "  </thead>\n",
              "  <tbody>\n",
              "    <tr>\n",
              "      <th>0</th>\n",
              "      <td>2</td>\n",
              "      <td>1</td>\n",
              "      <td>D3</td>\n",
              "      <td>10</td>\n",
              "      <td>0.076923</td>\n",
              "      <td>2</td>\n",
              "      <td>1</td>\n",
              "      <td>1</td>\n",
              "      <td>0.641791</td>\n",
              "      <td>0.581818</td>\n",
              "      <td>...</td>\n",
              "      <td>0</td>\n",
              "      <td>0</td>\n",
              "      <td>0</td>\n",
              "      <td>0</td>\n",
              "      <td>0</td>\n",
              "      <td>0</td>\n",
              "      <td>0</td>\n",
              "      <td>0</td>\n",
              "      <td>0</td>\n",
              "      <td>8</td>\n",
              "    </tr>\n",
              "    <tr>\n",
              "      <th>1</th>\n",
              "      <td>5</td>\n",
              "      <td>1</td>\n",
              "      <td>A1</td>\n",
              "      <td>26</td>\n",
              "      <td>0.076923</td>\n",
              "      <td>2</td>\n",
              "      <td>3</td>\n",
              "      <td>1</td>\n",
              "      <td>0.059701</td>\n",
              "      <td>0.600000</td>\n",
              "      <td>...</td>\n",
              "      <td>0</td>\n",
              "      <td>0</td>\n",
              "      <td>0</td>\n",
              "      <td>0</td>\n",
              "      <td>0</td>\n",
              "      <td>0</td>\n",
              "      <td>0</td>\n",
              "      <td>0</td>\n",
              "      <td>0</td>\n",
              "      <td>4</td>\n",
              "    </tr>\n",
              "    <tr>\n",
              "      <th>2</th>\n",
              "      <td>6</td>\n",
              "      <td>1</td>\n",
              "      <td>E1</td>\n",
              "      <td>26</td>\n",
              "      <td>0.076923</td>\n",
              "      <td>2</td>\n",
              "      <td>3</td>\n",
              "      <td>1</td>\n",
              "      <td>0.029851</td>\n",
              "      <td>0.745455</td>\n",
              "      <td>...</td>\n",
              "      <td>0</td>\n",
              "      <td>0</td>\n",
              "      <td>0</td>\n",
              "      <td>0</td>\n",
              "      <td>0</td>\n",
              "      <td>0</td>\n",
              "      <td>0</td>\n",
              "      <td>0</td>\n",
              "      <td>0</td>\n",
              "      <td>8</td>\n",
              "    </tr>\n",
              "    <tr>\n",
              "      <th>3</th>\n",
              "      <td>7</td>\n",
              "      <td>1</td>\n",
              "      <td>D4</td>\n",
              "      <td>10</td>\n",
              "      <td>0.487179</td>\n",
              "      <td>2</td>\n",
              "      <td>3</td>\n",
              "      <td>1</td>\n",
              "      <td>0.164179</td>\n",
              "      <td>0.672727</td>\n",
              "      <td>...</td>\n",
              "      <td>0</td>\n",
              "      <td>0</td>\n",
              "      <td>0</td>\n",
              "      <td>0</td>\n",
              "      <td>0</td>\n",
              "      <td>0</td>\n",
              "      <td>0</td>\n",
              "      <td>0</td>\n",
              "      <td>0</td>\n",
              "      <td>8</td>\n",
              "    </tr>\n",
              "    <tr>\n",
              "      <th>4</th>\n",
              "      <td>8</td>\n",
              "      <td>1</td>\n",
              "      <td>D2</td>\n",
              "      <td>26</td>\n",
              "      <td>0.230769</td>\n",
              "      <td>2</td>\n",
              "      <td>3</td>\n",
              "      <td>1</td>\n",
              "      <td>0.417910</td>\n",
              "      <td>0.654545</td>\n",
              "      <td>...</td>\n",
              "      <td>0</td>\n",
              "      <td>0</td>\n",
              "      <td>0</td>\n",
              "      <td>0</td>\n",
              "      <td>0</td>\n",
              "      <td>0</td>\n",
              "      <td>0</td>\n",
              "      <td>0</td>\n",
              "      <td>0</td>\n",
              "      <td>8</td>\n",
              "    </tr>\n",
              "    <tr>\n",
              "      <th>...</th>\n",
              "      <td>...</td>\n",
              "      <td>...</td>\n",
              "      <td>...</td>\n",
              "      <td>...</td>\n",
              "      <td>...</td>\n",
              "      <td>...</td>\n",
              "      <td>...</td>\n",
              "      <td>...</td>\n",
              "      <td>...</td>\n",
              "      <td>...</td>\n",
              "      <td>...</td>\n",
              "      <td>...</td>\n",
              "      <td>...</td>\n",
              "      <td>...</td>\n",
              "      <td>...</td>\n",
              "      <td>...</td>\n",
              "      <td>...</td>\n",
              "      <td>...</td>\n",
              "      <td>...</td>\n",
              "      <td>...</td>\n",
              "      <td>...</td>\n",
              "    </tr>\n",
              "    <tr>\n",
              "      <th>59376</th>\n",
              "      <td>79142</td>\n",
              "      <td>1</td>\n",
              "      <td>D1</td>\n",
              "      <td>10</td>\n",
              "      <td>0.230769</td>\n",
              "      <td>2</td>\n",
              "      <td>3</td>\n",
              "      <td>1</td>\n",
              "      <td>0.074627</td>\n",
              "      <td>0.709091</td>\n",
              "      <td>...</td>\n",
              "      <td>0</td>\n",
              "      <td>0</td>\n",
              "      <td>0</td>\n",
              "      <td>0</td>\n",
              "      <td>0</td>\n",
              "      <td>0</td>\n",
              "      <td>0</td>\n",
              "      <td>0</td>\n",
              "      <td>0</td>\n",
              "      <td>4</td>\n",
              "    </tr>\n",
              "    <tr>\n",
              "      <th>59377</th>\n",
              "      <td>79143</td>\n",
              "      <td>1</td>\n",
              "      <td>D3</td>\n",
              "      <td>26</td>\n",
              "      <td>0.230769</td>\n",
              "      <td>2</td>\n",
              "      <td>3</td>\n",
              "      <td>1</td>\n",
              "      <td>0.432836</td>\n",
              "      <td>0.800000</td>\n",
              "      <td>...</td>\n",
              "      <td>0</td>\n",
              "      <td>0</td>\n",
              "      <td>0</td>\n",
              "      <td>0</td>\n",
              "      <td>0</td>\n",
              "      <td>0</td>\n",
              "      <td>0</td>\n",
              "      <td>0</td>\n",
              "      <td>0</td>\n",
              "      <td>7</td>\n",
              "    </tr>\n",
              "    <tr>\n",
              "      <th>59378</th>\n",
              "      <td>79144</td>\n",
              "      <td>1</td>\n",
              "      <td>E1</td>\n",
              "      <td>26</td>\n",
              "      <td>0.076923</td>\n",
              "      <td>2</td>\n",
              "      <td>3</td>\n",
              "      <td>1</td>\n",
              "      <td>0.104478</td>\n",
              "      <td>0.745455</td>\n",
              "      <td>...</td>\n",
              "      <td>0</td>\n",
              "      <td>0</td>\n",
              "      <td>0</td>\n",
              "      <td>0</td>\n",
              "      <td>0</td>\n",
              "      <td>0</td>\n",
              "      <td>0</td>\n",
              "      <td>0</td>\n",
              "      <td>0</td>\n",
              "      <td>8</td>\n",
              "    </tr>\n",
              "    <tr>\n",
              "      <th>59379</th>\n",
              "      <td>79145</td>\n",
              "      <td>1</td>\n",
              "      <td>D2</td>\n",
              "      <td>10</td>\n",
              "      <td>0.230769</td>\n",
              "      <td>2</td>\n",
              "      <td>3</td>\n",
              "      <td>1</td>\n",
              "      <td>0.507463</td>\n",
              "      <td>0.690909</td>\n",
              "      <td>...</td>\n",
              "      <td>1</td>\n",
              "      <td>0</td>\n",
              "      <td>0</td>\n",
              "      <td>0</td>\n",
              "      <td>0</td>\n",
              "      <td>0</td>\n",
              "      <td>0</td>\n",
              "      <td>0</td>\n",
              "      <td>0</td>\n",
              "      <td>8</td>\n",
              "    </tr>\n",
              "    <tr>\n",
              "      <th>59380</th>\n",
              "      <td>79146</td>\n",
              "      <td>1</td>\n",
              "      <td>A8</td>\n",
              "      <td>26</td>\n",
              "      <td>0.076923</td>\n",
              "      <td>2</td>\n",
              "      <td>3</td>\n",
              "      <td>1</td>\n",
              "      <td>0.447761</td>\n",
              "      <td>0.781818</td>\n",
              "      <td>...</td>\n",
              "      <td>0</td>\n",
              "      <td>0</td>\n",
              "      <td>0</td>\n",
              "      <td>0</td>\n",
              "      <td>0</td>\n",
              "      <td>0</td>\n",
              "      <td>0</td>\n",
              "      <td>0</td>\n",
              "      <td>0</td>\n",
              "      <td>7</td>\n",
              "    </tr>\n",
              "  </tbody>\n",
              "</table>\n",
              "<p>59381 rows × 128 columns</p>\n",
              "</div>\n",
              "      <button class=\"colab-df-convert\" onclick=\"convertToInteractive('df-53325636-5371-496d-ba55-94f9d9a3024c')\"\n",
              "              title=\"Convert this dataframe to an interactive table.\"\n",
              "              style=\"display:none;\">\n",
              "        \n",
              "  <svg xmlns=\"http://www.w3.org/2000/svg\" height=\"24px\"viewBox=\"0 0 24 24\"\n",
              "       width=\"24px\">\n",
              "    <path d=\"M0 0h24v24H0V0z\" fill=\"none\"/>\n",
              "    <path d=\"M18.56 5.44l.94 2.06.94-2.06 2.06-.94-2.06-.94-.94-2.06-.94 2.06-2.06.94zm-11 1L8.5 8.5l.94-2.06 2.06-.94-2.06-.94L8.5 2.5l-.94 2.06-2.06.94zm10 10l.94 2.06.94-2.06 2.06-.94-2.06-.94-.94-2.06-.94 2.06-2.06.94z\"/><path d=\"M17.41 7.96l-1.37-1.37c-.4-.4-.92-.59-1.43-.59-.52 0-1.04.2-1.43.59L10.3 9.45l-7.72 7.72c-.78.78-.78 2.05 0 2.83L4 21.41c.39.39.9.59 1.41.59.51 0 1.02-.2 1.41-.59l7.78-7.78 2.81-2.81c.8-.78.8-2.07 0-2.86zM5.41 20L4 18.59l7.72-7.72 1.47 1.35L5.41 20z\"/>\n",
              "  </svg>\n",
              "      </button>\n",
              "      \n",
              "  <style>\n",
              "    .colab-df-container {\n",
              "      display:flex;\n",
              "      flex-wrap:wrap;\n",
              "      gap: 12px;\n",
              "    }\n",
              "\n",
              "    .colab-df-convert {\n",
              "      background-color: #E8F0FE;\n",
              "      border: none;\n",
              "      border-radius: 50%;\n",
              "      cursor: pointer;\n",
              "      display: none;\n",
              "      fill: #1967D2;\n",
              "      height: 32px;\n",
              "      padding: 0 0 0 0;\n",
              "      width: 32px;\n",
              "    }\n",
              "\n",
              "    .colab-df-convert:hover {\n",
              "      background-color: #E2EBFA;\n",
              "      box-shadow: 0px 1px 2px rgba(60, 64, 67, 0.3), 0px 1px 3px 1px rgba(60, 64, 67, 0.15);\n",
              "      fill: #174EA6;\n",
              "    }\n",
              "\n",
              "    [theme=dark] .colab-df-convert {\n",
              "      background-color: #3B4455;\n",
              "      fill: #D2E3FC;\n",
              "    }\n",
              "\n",
              "    [theme=dark] .colab-df-convert:hover {\n",
              "      background-color: #434B5C;\n",
              "      box-shadow: 0px 1px 3px 1px rgba(0, 0, 0, 0.15);\n",
              "      filter: drop-shadow(0px 1px 2px rgba(0, 0, 0, 0.3));\n",
              "      fill: #FFFFFF;\n",
              "    }\n",
              "  </style>\n",
              "\n",
              "      <script>\n",
              "        const buttonEl =\n",
              "          document.querySelector('#df-53325636-5371-496d-ba55-94f9d9a3024c button.colab-df-convert');\n",
              "        buttonEl.style.display =\n",
              "          google.colab.kernel.accessAllowed ? 'block' : 'none';\n",
              "\n",
              "        async function convertToInteractive(key) {\n",
              "          const element = document.querySelector('#df-53325636-5371-496d-ba55-94f9d9a3024c');\n",
              "          const dataTable =\n",
              "            await google.colab.kernel.invokeFunction('convertToInteractive',\n",
              "                                                     [key], {});\n",
              "          if (!dataTable) return;\n",
              "\n",
              "          const docLinkHtml = 'Like what you see? Visit the ' +\n",
              "            '<a target=\"_blank\" href=https://colab.research.google.com/notebooks/data_table.ipynb>data table notebook</a>'\n",
              "            + ' to learn more about interactive tables.';\n",
              "          element.innerHTML = '';\n",
              "          dataTable['output_type'] = 'display_data';\n",
              "          await google.colab.output.renderOutput(dataTable, element);\n",
              "          const docLink = document.createElement('div');\n",
              "          docLink.innerHTML = docLinkHtml;\n",
              "          element.appendChild(docLink);\n",
              "        }\n",
              "      </script>\n",
              "    </div>\n",
              "  </div>\n",
              "  "
            ]
          },
          "metadata": {},
          "execution_count": 252
        }
      ]
    },
    {
      "cell_type": "code",
      "source": [
        "PLI_data.isnull().sum()"
      ],
      "metadata": {
        "colab": {
          "base_uri": "https://localhost:8080/"
        },
        "id": "NYVSi_wvmro0",
        "outputId": "254b208a-0b0c-42e9-acff-71ff9813c440"
      },
      "execution_count": null,
      "outputs": [
        {
          "output_type": "execute_result",
          "data": {
            "text/plain": [
              "Id                    0\n",
              "Product_Info_1        0\n",
              "Product_Info_2        0\n",
              "Product_Info_3        0\n",
              "Product_Info_4        0\n",
              "                     ..\n",
              "Medical_Keyword_45    0\n",
              "Medical_Keyword_46    0\n",
              "Medical_Keyword_47    0\n",
              "Medical_Keyword_48    0\n",
              "Response              0\n",
              "Length: 128, dtype: int64"
            ]
          },
          "metadata": {},
          "execution_count": 5
        }
      ]
    },
    {
      "cell_type": "code",
      "source": [
        "PLI_data.fillna(PLI_data.mean().round(1), inplace = True)\n",
        "PLI_data.isnull().sum()"
      ],
      "metadata": {
        "colab": {
          "base_uri": "https://localhost:8080/"
        },
        "id": "a-BWDNeam0e9",
        "outputId": "8d4f3107-c951-45db-95fd-84a5cf251ba1"
      },
      "execution_count": null,
      "outputs": [
        {
          "output_type": "stream",
          "name": "stderr",
          "text": [
            "<ipython-input-6-70b8b2959489>:1: FutureWarning: Dropping of nuisance columns in DataFrame reductions (with 'numeric_only=None') is deprecated; in a future version this will raise TypeError.  Select only valid columns before calling the reduction.\n",
            "  PLI_data.fillna(PLI_data.mean().round(1), inplace = True)\n"
          ]
        },
        {
          "output_type": "execute_result",
          "data": {
            "text/plain": [
              "Id                    0\n",
              "Product_Info_1        0\n",
              "Product_Info_2        0\n",
              "Product_Info_3        0\n",
              "Product_Info_4        0\n",
              "                     ..\n",
              "Medical_Keyword_45    0\n",
              "Medical_Keyword_46    0\n",
              "Medical_Keyword_47    0\n",
              "Medical_Keyword_48    0\n",
              "Response              0\n",
              "Length: 128, dtype: int64"
            ]
          },
          "metadata": {},
          "execution_count": 6
        }
      ]
    },
    {
      "cell_type": "markdown",
      "source": [
        "• Make use of the insurance data set to explore the multicollinearity among the input variables. "
      ],
      "metadata": {
        "id": "7I-dEpIcoq6-"
      }
    },
    {
      "cell_type": "markdown",
      "source": [
        "Dropping Product_Info_2 column as it is a non-number column and it is not useful for the further calculations"
      ],
      "metadata": {
        "id": "MwAz-q7spE-v"
      }
    },
    {
      "cell_type": "code",
      "source": [
        "PLI_data.drop(['Product_Info_2'],axis=1,inplace=True)\n",
        "PLI_data.head()"
      ],
      "metadata": {
        "colab": {
          "base_uri": "https://localhost:8080/",
          "height": 300
        },
        "id": "ybt5hyWjov8k",
        "outputId": "42564954-4aee-42e5-f543-46c71450c1fc"
      },
      "execution_count": null,
      "outputs": [
        {
          "output_type": "execute_result",
          "data": {
            "text/plain": [
              "   Id  Product_Info_1  Product_Info_3  Product_Info_4  Product_Info_5  \\\n",
              "0   2               1              10        0.076923               2   \n",
              "1   5               1              26        0.076923               2   \n",
              "2   6               1              26        0.076923               2   \n",
              "3   7               1              10        0.487179               2   \n",
              "4   8               1              26        0.230769               2   \n",
              "\n",
              "   Product_Info_6  Product_Info_7   Ins_Age        Ht        Wt  ...  \\\n",
              "0               1               1  0.641791  0.581818  0.148536  ...   \n",
              "1               3               1  0.059701  0.600000  0.131799  ...   \n",
              "2               3               1  0.029851  0.745455  0.288703  ...   \n",
              "3               3               1  0.164179  0.672727  0.205021  ...   \n",
              "4               3               1  0.417910  0.654545  0.234310  ...   \n",
              "\n",
              "   Medical_Keyword_40  Medical_Keyword_41  Medical_Keyword_42  \\\n",
              "0                   0                   0                   0   \n",
              "1                   0                   0                   0   \n",
              "2                   0                   0                   0   \n",
              "3                   0                   0                   0   \n",
              "4                   0                   0                   0   \n",
              "\n",
              "   Medical_Keyword_43  Medical_Keyword_44  Medical_Keyword_45  \\\n",
              "0                   0                   0                   0   \n",
              "1                   0                   0                   0   \n",
              "2                   0                   0                   0   \n",
              "3                   0                   0                   0   \n",
              "4                   0                   0                   0   \n",
              "\n",
              "   Medical_Keyword_46  Medical_Keyword_47  Medical_Keyword_48  Response  \n",
              "0                   0                   0                   0         8  \n",
              "1                   0                   0                   0         4  \n",
              "2                   0                   0                   0         8  \n",
              "3                   0                   0                   0         8  \n",
              "4                   0                   0                   0         8  \n",
              "\n",
              "[5 rows x 127 columns]"
            ],
            "text/html": [
              "\n",
              "  <div id=\"df-2b2b9742-f7d9-4c0a-83ca-26bbc239789d\">\n",
              "    <div class=\"colab-df-container\">\n",
              "      <div>\n",
              "<style scoped>\n",
              "    .dataframe tbody tr th:only-of-type {\n",
              "        vertical-align: middle;\n",
              "    }\n",
              "\n",
              "    .dataframe tbody tr th {\n",
              "        vertical-align: top;\n",
              "    }\n",
              "\n",
              "    .dataframe thead th {\n",
              "        text-align: right;\n",
              "    }\n",
              "</style>\n",
              "<table border=\"1\" class=\"dataframe\">\n",
              "  <thead>\n",
              "    <tr style=\"text-align: right;\">\n",
              "      <th></th>\n",
              "      <th>Id</th>\n",
              "      <th>Product_Info_1</th>\n",
              "      <th>Product_Info_3</th>\n",
              "      <th>Product_Info_4</th>\n",
              "      <th>Product_Info_5</th>\n",
              "      <th>Product_Info_6</th>\n",
              "      <th>Product_Info_7</th>\n",
              "      <th>Ins_Age</th>\n",
              "      <th>Ht</th>\n",
              "      <th>Wt</th>\n",
              "      <th>...</th>\n",
              "      <th>Medical_Keyword_40</th>\n",
              "      <th>Medical_Keyword_41</th>\n",
              "      <th>Medical_Keyword_42</th>\n",
              "      <th>Medical_Keyword_43</th>\n",
              "      <th>Medical_Keyword_44</th>\n",
              "      <th>Medical_Keyword_45</th>\n",
              "      <th>Medical_Keyword_46</th>\n",
              "      <th>Medical_Keyword_47</th>\n",
              "      <th>Medical_Keyword_48</th>\n",
              "      <th>Response</th>\n",
              "    </tr>\n",
              "  </thead>\n",
              "  <tbody>\n",
              "    <tr>\n",
              "      <th>0</th>\n",
              "      <td>2</td>\n",
              "      <td>1</td>\n",
              "      <td>10</td>\n",
              "      <td>0.076923</td>\n",
              "      <td>2</td>\n",
              "      <td>1</td>\n",
              "      <td>1</td>\n",
              "      <td>0.641791</td>\n",
              "      <td>0.581818</td>\n",
              "      <td>0.148536</td>\n",
              "      <td>...</td>\n",
              "      <td>0</td>\n",
              "      <td>0</td>\n",
              "      <td>0</td>\n",
              "      <td>0</td>\n",
              "      <td>0</td>\n",
              "      <td>0</td>\n",
              "      <td>0</td>\n",
              "      <td>0</td>\n",
              "      <td>0</td>\n",
              "      <td>8</td>\n",
              "    </tr>\n",
              "    <tr>\n",
              "      <th>1</th>\n",
              "      <td>5</td>\n",
              "      <td>1</td>\n",
              "      <td>26</td>\n",
              "      <td>0.076923</td>\n",
              "      <td>2</td>\n",
              "      <td>3</td>\n",
              "      <td>1</td>\n",
              "      <td>0.059701</td>\n",
              "      <td>0.600000</td>\n",
              "      <td>0.131799</td>\n",
              "      <td>...</td>\n",
              "      <td>0</td>\n",
              "      <td>0</td>\n",
              "      <td>0</td>\n",
              "      <td>0</td>\n",
              "      <td>0</td>\n",
              "      <td>0</td>\n",
              "      <td>0</td>\n",
              "      <td>0</td>\n",
              "      <td>0</td>\n",
              "      <td>4</td>\n",
              "    </tr>\n",
              "    <tr>\n",
              "      <th>2</th>\n",
              "      <td>6</td>\n",
              "      <td>1</td>\n",
              "      <td>26</td>\n",
              "      <td>0.076923</td>\n",
              "      <td>2</td>\n",
              "      <td>3</td>\n",
              "      <td>1</td>\n",
              "      <td>0.029851</td>\n",
              "      <td>0.745455</td>\n",
              "      <td>0.288703</td>\n",
              "      <td>...</td>\n",
              "      <td>0</td>\n",
              "      <td>0</td>\n",
              "      <td>0</td>\n",
              "      <td>0</td>\n",
              "      <td>0</td>\n",
              "      <td>0</td>\n",
              "      <td>0</td>\n",
              "      <td>0</td>\n",
              "      <td>0</td>\n",
              "      <td>8</td>\n",
              "    </tr>\n",
              "    <tr>\n",
              "      <th>3</th>\n",
              "      <td>7</td>\n",
              "      <td>1</td>\n",
              "      <td>10</td>\n",
              "      <td>0.487179</td>\n",
              "      <td>2</td>\n",
              "      <td>3</td>\n",
              "      <td>1</td>\n",
              "      <td>0.164179</td>\n",
              "      <td>0.672727</td>\n",
              "      <td>0.205021</td>\n",
              "      <td>...</td>\n",
              "      <td>0</td>\n",
              "      <td>0</td>\n",
              "      <td>0</td>\n",
              "      <td>0</td>\n",
              "      <td>0</td>\n",
              "      <td>0</td>\n",
              "      <td>0</td>\n",
              "      <td>0</td>\n",
              "      <td>0</td>\n",
              "      <td>8</td>\n",
              "    </tr>\n",
              "    <tr>\n",
              "      <th>4</th>\n",
              "      <td>8</td>\n",
              "      <td>1</td>\n",
              "      <td>26</td>\n",
              "      <td>0.230769</td>\n",
              "      <td>2</td>\n",
              "      <td>3</td>\n",
              "      <td>1</td>\n",
              "      <td>0.417910</td>\n",
              "      <td>0.654545</td>\n",
              "      <td>0.234310</td>\n",
              "      <td>...</td>\n",
              "      <td>0</td>\n",
              "      <td>0</td>\n",
              "      <td>0</td>\n",
              "      <td>0</td>\n",
              "      <td>0</td>\n",
              "      <td>0</td>\n",
              "      <td>0</td>\n",
              "      <td>0</td>\n",
              "      <td>0</td>\n",
              "      <td>8</td>\n",
              "    </tr>\n",
              "  </tbody>\n",
              "</table>\n",
              "<p>5 rows × 127 columns</p>\n",
              "</div>\n",
              "      <button class=\"colab-df-convert\" onclick=\"convertToInteractive('df-2b2b9742-f7d9-4c0a-83ca-26bbc239789d')\"\n",
              "              title=\"Convert this dataframe to an interactive table.\"\n",
              "              style=\"display:none;\">\n",
              "        \n",
              "  <svg xmlns=\"http://www.w3.org/2000/svg\" height=\"24px\"viewBox=\"0 0 24 24\"\n",
              "       width=\"24px\">\n",
              "    <path d=\"M0 0h24v24H0V0z\" fill=\"none\"/>\n",
              "    <path d=\"M18.56 5.44l.94 2.06.94-2.06 2.06-.94-2.06-.94-.94-2.06-.94 2.06-2.06.94zm-11 1L8.5 8.5l.94-2.06 2.06-.94-2.06-.94L8.5 2.5l-.94 2.06-2.06.94zm10 10l.94 2.06.94-2.06 2.06-.94-2.06-.94-.94-2.06-.94 2.06-2.06.94z\"/><path d=\"M17.41 7.96l-1.37-1.37c-.4-.4-.92-.59-1.43-.59-.52 0-1.04.2-1.43.59L10.3 9.45l-7.72 7.72c-.78.78-.78 2.05 0 2.83L4 21.41c.39.39.9.59 1.41.59.51 0 1.02-.2 1.41-.59l7.78-7.78 2.81-2.81c.8-.78.8-2.07 0-2.86zM5.41 20L4 18.59l7.72-7.72 1.47 1.35L5.41 20z\"/>\n",
              "  </svg>\n",
              "      </button>\n",
              "      \n",
              "  <style>\n",
              "    .colab-df-container {\n",
              "      display:flex;\n",
              "      flex-wrap:wrap;\n",
              "      gap: 12px;\n",
              "    }\n",
              "\n",
              "    .colab-df-convert {\n",
              "      background-color: #E8F0FE;\n",
              "      border: none;\n",
              "      border-radius: 50%;\n",
              "      cursor: pointer;\n",
              "      display: none;\n",
              "      fill: #1967D2;\n",
              "      height: 32px;\n",
              "      padding: 0 0 0 0;\n",
              "      width: 32px;\n",
              "    }\n",
              "\n",
              "    .colab-df-convert:hover {\n",
              "      background-color: #E2EBFA;\n",
              "      box-shadow: 0px 1px 2px rgba(60, 64, 67, 0.3), 0px 1px 3px 1px rgba(60, 64, 67, 0.15);\n",
              "      fill: #174EA6;\n",
              "    }\n",
              "\n",
              "    [theme=dark] .colab-df-convert {\n",
              "      background-color: #3B4455;\n",
              "      fill: #D2E3FC;\n",
              "    }\n",
              "\n",
              "    [theme=dark] .colab-df-convert:hover {\n",
              "      background-color: #434B5C;\n",
              "      box-shadow: 0px 1px 3px 1px rgba(0, 0, 0, 0.15);\n",
              "      filter: drop-shadow(0px 1px 2px rgba(0, 0, 0, 0.3));\n",
              "      fill: #FFFFFF;\n",
              "    }\n",
              "  </style>\n",
              "\n",
              "      <script>\n",
              "        const buttonEl =\n",
              "          document.querySelector('#df-2b2b9742-f7d9-4c0a-83ca-26bbc239789d button.colab-df-convert');\n",
              "        buttonEl.style.display =\n",
              "          google.colab.kernel.accessAllowed ? 'block' : 'none';\n",
              "\n",
              "        async function convertToInteractive(key) {\n",
              "          const element = document.querySelector('#df-2b2b9742-f7d9-4c0a-83ca-26bbc239789d');\n",
              "          const dataTable =\n",
              "            await google.colab.kernel.invokeFunction('convertToInteractive',\n",
              "                                                     [key], {});\n",
              "          if (!dataTable) return;\n",
              "\n",
              "          const docLinkHtml = 'Like what you see? Visit the ' +\n",
              "            '<a target=\"_blank\" href=https://colab.research.google.com/notebooks/data_table.ipynb>data table notebook</a>'\n",
              "            + ' to learn more about interactive tables.';\n",
              "          element.innerHTML = '';\n",
              "          dataTable['output_type'] = 'display_data';\n",
              "          await google.colab.output.renderOutput(dataTable, element);\n",
              "          const docLink = document.createElement('div');\n",
              "          docLink.innerHTML = docLinkHtml;\n",
              "          element.appendChild(docLink);\n",
              "        }\n",
              "      </script>\n",
              "    </div>\n",
              "  </div>\n",
              "  "
            ]
          },
          "metadata": {},
          "execution_count": 7
        }
      ]
    },
    {
      "cell_type": "code",
      "source": [
        "vectorized_df = PLI_data.iloc[:,:-1]\n",
        "vectorized_df.head()"
      ],
      "metadata": {
        "colab": {
          "base_uri": "https://localhost:8080/",
          "height": 300
        },
        "id": "zxwcAcvYm0k9",
        "outputId": "3c27760b-94db-4e34-e108-2160e653ae59"
      },
      "execution_count": null,
      "outputs": [
        {
          "output_type": "execute_result",
          "data": {
            "text/plain": [
              "   Id  Product_Info_1  Product_Info_3  Product_Info_4  Product_Info_5  \\\n",
              "0   2               1              10        0.076923               2   \n",
              "1   5               1              26        0.076923               2   \n",
              "2   6               1              26        0.076923               2   \n",
              "3   7               1              10        0.487179               2   \n",
              "4   8               1              26        0.230769               2   \n",
              "\n",
              "   Product_Info_6  Product_Info_7   Ins_Age        Ht        Wt  ...  \\\n",
              "0               1               1  0.641791  0.581818  0.148536  ...   \n",
              "1               3               1  0.059701  0.600000  0.131799  ...   \n",
              "2               3               1  0.029851  0.745455  0.288703  ...   \n",
              "3               3               1  0.164179  0.672727  0.205021  ...   \n",
              "4               3               1  0.417910  0.654545  0.234310  ...   \n",
              "\n",
              "   Medical_Keyword_39  Medical_Keyword_40  Medical_Keyword_41  \\\n",
              "0                   0                   0                   0   \n",
              "1                   0                   0                   0   \n",
              "2                   0                   0                   0   \n",
              "3                   0                   0                   0   \n",
              "4                   0                   0                   0   \n",
              "\n",
              "   Medical_Keyword_42  Medical_Keyword_43  Medical_Keyword_44  \\\n",
              "0                   0                   0                   0   \n",
              "1                   0                   0                   0   \n",
              "2                   0                   0                   0   \n",
              "3                   0                   0                   0   \n",
              "4                   0                   0                   0   \n",
              "\n",
              "   Medical_Keyword_45  Medical_Keyword_46  Medical_Keyword_47  \\\n",
              "0                   0                   0                   0   \n",
              "1                   0                   0                   0   \n",
              "2                   0                   0                   0   \n",
              "3                   0                   0                   0   \n",
              "4                   0                   0                   0   \n",
              "\n",
              "   Medical_Keyword_48  \n",
              "0                   0  \n",
              "1                   0  \n",
              "2                   0  \n",
              "3                   0  \n",
              "4                   0  \n",
              "\n",
              "[5 rows x 126 columns]"
            ],
            "text/html": [
              "\n",
              "  <div id=\"df-8f335277-56da-4524-945d-bd338fa7e7bb\">\n",
              "    <div class=\"colab-df-container\">\n",
              "      <div>\n",
              "<style scoped>\n",
              "    .dataframe tbody tr th:only-of-type {\n",
              "        vertical-align: middle;\n",
              "    }\n",
              "\n",
              "    .dataframe tbody tr th {\n",
              "        vertical-align: top;\n",
              "    }\n",
              "\n",
              "    .dataframe thead th {\n",
              "        text-align: right;\n",
              "    }\n",
              "</style>\n",
              "<table border=\"1\" class=\"dataframe\">\n",
              "  <thead>\n",
              "    <tr style=\"text-align: right;\">\n",
              "      <th></th>\n",
              "      <th>Id</th>\n",
              "      <th>Product_Info_1</th>\n",
              "      <th>Product_Info_3</th>\n",
              "      <th>Product_Info_4</th>\n",
              "      <th>Product_Info_5</th>\n",
              "      <th>Product_Info_6</th>\n",
              "      <th>Product_Info_7</th>\n",
              "      <th>Ins_Age</th>\n",
              "      <th>Ht</th>\n",
              "      <th>Wt</th>\n",
              "      <th>...</th>\n",
              "      <th>Medical_Keyword_39</th>\n",
              "      <th>Medical_Keyword_40</th>\n",
              "      <th>Medical_Keyword_41</th>\n",
              "      <th>Medical_Keyword_42</th>\n",
              "      <th>Medical_Keyword_43</th>\n",
              "      <th>Medical_Keyword_44</th>\n",
              "      <th>Medical_Keyword_45</th>\n",
              "      <th>Medical_Keyword_46</th>\n",
              "      <th>Medical_Keyword_47</th>\n",
              "      <th>Medical_Keyword_48</th>\n",
              "    </tr>\n",
              "  </thead>\n",
              "  <tbody>\n",
              "    <tr>\n",
              "      <th>0</th>\n",
              "      <td>2</td>\n",
              "      <td>1</td>\n",
              "      <td>10</td>\n",
              "      <td>0.076923</td>\n",
              "      <td>2</td>\n",
              "      <td>1</td>\n",
              "      <td>1</td>\n",
              "      <td>0.641791</td>\n",
              "      <td>0.581818</td>\n",
              "      <td>0.148536</td>\n",
              "      <td>...</td>\n",
              "      <td>0</td>\n",
              "      <td>0</td>\n",
              "      <td>0</td>\n",
              "      <td>0</td>\n",
              "      <td>0</td>\n",
              "      <td>0</td>\n",
              "      <td>0</td>\n",
              "      <td>0</td>\n",
              "      <td>0</td>\n",
              "      <td>0</td>\n",
              "    </tr>\n",
              "    <tr>\n",
              "      <th>1</th>\n",
              "      <td>5</td>\n",
              "      <td>1</td>\n",
              "      <td>26</td>\n",
              "      <td>0.076923</td>\n",
              "      <td>2</td>\n",
              "      <td>3</td>\n",
              "      <td>1</td>\n",
              "      <td>0.059701</td>\n",
              "      <td>0.600000</td>\n",
              "      <td>0.131799</td>\n",
              "      <td>...</td>\n",
              "      <td>0</td>\n",
              "      <td>0</td>\n",
              "      <td>0</td>\n",
              "      <td>0</td>\n",
              "      <td>0</td>\n",
              "      <td>0</td>\n",
              "      <td>0</td>\n",
              "      <td>0</td>\n",
              "      <td>0</td>\n",
              "      <td>0</td>\n",
              "    </tr>\n",
              "    <tr>\n",
              "      <th>2</th>\n",
              "      <td>6</td>\n",
              "      <td>1</td>\n",
              "      <td>26</td>\n",
              "      <td>0.076923</td>\n",
              "      <td>2</td>\n",
              "      <td>3</td>\n",
              "      <td>1</td>\n",
              "      <td>0.029851</td>\n",
              "      <td>0.745455</td>\n",
              "      <td>0.288703</td>\n",
              "      <td>...</td>\n",
              "      <td>0</td>\n",
              "      <td>0</td>\n",
              "      <td>0</td>\n",
              "      <td>0</td>\n",
              "      <td>0</td>\n",
              "      <td>0</td>\n",
              "      <td>0</td>\n",
              "      <td>0</td>\n",
              "      <td>0</td>\n",
              "      <td>0</td>\n",
              "    </tr>\n",
              "    <tr>\n",
              "      <th>3</th>\n",
              "      <td>7</td>\n",
              "      <td>1</td>\n",
              "      <td>10</td>\n",
              "      <td>0.487179</td>\n",
              "      <td>2</td>\n",
              "      <td>3</td>\n",
              "      <td>1</td>\n",
              "      <td>0.164179</td>\n",
              "      <td>0.672727</td>\n",
              "      <td>0.205021</td>\n",
              "      <td>...</td>\n",
              "      <td>0</td>\n",
              "      <td>0</td>\n",
              "      <td>0</td>\n",
              "      <td>0</td>\n",
              "      <td>0</td>\n",
              "      <td>0</td>\n",
              "      <td>0</td>\n",
              "      <td>0</td>\n",
              "      <td>0</td>\n",
              "      <td>0</td>\n",
              "    </tr>\n",
              "    <tr>\n",
              "      <th>4</th>\n",
              "      <td>8</td>\n",
              "      <td>1</td>\n",
              "      <td>26</td>\n",
              "      <td>0.230769</td>\n",
              "      <td>2</td>\n",
              "      <td>3</td>\n",
              "      <td>1</td>\n",
              "      <td>0.417910</td>\n",
              "      <td>0.654545</td>\n",
              "      <td>0.234310</td>\n",
              "      <td>...</td>\n",
              "      <td>0</td>\n",
              "      <td>0</td>\n",
              "      <td>0</td>\n",
              "      <td>0</td>\n",
              "      <td>0</td>\n",
              "      <td>0</td>\n",
              "      <td>0</td>\n",
              "      <td>0</td>\n",
              "      <td>0</td>\n",
              "      <td>0</td>\n",
              "    </tr>\n",
              "  </tbody>\n",
              "</table>\n",
              "<p>5 rows × 126 columns</p>\n",
              "</div>\n",
              "      <button class=\"colab-df-convert\" onclick=\"convertToInteractive('df-8f335277-56da-4524-945d-bd338fa7e7bb')\"\n",
              "              title=\"Convert this dataframe to an interactive table.\"\n",
              "              style=\"display:none;\">\n",
              "        \n",
              "  <svg xmlns=\"http://www.w3.org/2000/svg\" height=\"24px\"viewBox=\"0 0 24 24\"\n",
              "       width=\"24px\">\n",
              "    <path d=\"M0 0h24v24H0V0z\" fill=\"none\"/>\n",
              "    <path d=\"M18.56 5.44l.94 2.06.94-2.06 2.06-.94-2.06-.94-.94-2.06-.94 2.06-2.06.94zm-11 1L8.5 8.5l.94-2.06 2.06-.94-2.06-.94L8.5 2.5l-.94 2.06-2.06.94zm10 10l.94 2.06.94-2.06 2.06-.94-2.06-.94-.94-2.06-.94 2.06-2.06.94z\"/><path d=\"M17.41 7.96l-1.37-1.37c-.4-.4-.92-.59-1.43-.59-.52 0-1.04.2-1.43.59L10.3 9.45l-7.72 7.72c-.78.78-.78 2.05 0 2.83L4 21.41c.39.39.9.59 1.41.59.51 0 1.02-.2 1.41-.59l7.78-7.78 2.81-2.81c.8-.78.8-2.07 0-2.86zM5.41 20L4 18.59l7.72-7.72 1.47 1.35L5.41 20z\"/>\n",
              "  </svg>\n",
              "      </button>\n",
              "      \n",
              "  <style>\n",
              "    .colab-df-container {\n",
              "      display:flex;\n",
              "      flex-wrap:wrap;\n",
              "      gap: 12px;\n",
              "    }\n",
              "\n",
              "    .colab-df-convert {\n",
              "      background-color: #E8F0FE;\n",
              "      border: none;\n",
              "      border-radius: 50%;\n",
              "      cursor: pointer;\n",
              "      display: none;\n",
              "      fill: #1967D2;\n",
              "      height: 32px;\n",
              "      padding: 0 0 0 0;\n",
              "      width: 32px;\n",
              "    }\n",
              "\n",
              "    .colab-df-convert:hover {\n",
              "      background-color: #E2EBFA;\n",
              "      box-shadow: 0px 1px 2px rgba(60, 64, 67, 0.3), 0px 1px 3px 1px rgba(60, 64, 67, 0.15);\n",
              "      fill: #174EA6;\n",
              "    }\n",
              "\n",
              "    [theme=dark] .colab-df-convert {\n",
              "      background-color: #3B4455;\n",
              "      fill: #D2E3FC;\n",
              "    }\n",
              "\n",
              "    [theme=dark] .colab-df-convert:hover {\n",
              "      background-color: #434B5C;\n",
              "      box-shadow: 0px 1px 3px 1px rgba(0, 0, 0, 0.15);\n",
              "      filter: drop-shadow(0px 1px 2px rgba(0, 0, 0, 0.3));\n",
              "      fill: #FFFFFF;\n",
              "    }\n",
              "  </style>\n",
              "\n",
              "      <script>\n",
              "        const buttonEl =\n",
              "          document.querySelector('#df-8f335277-56da-4524-945d-bd338fa7e7bb button.colab-df-convert');\n",
              "        buttonEl.style.display =\n",
              "          google.colab.kernel.accessAllowed ? 'block' : 'none';\n",
              "\n",
              "        async function convertToInteractive(key) {\n",
              "          const element = document.querySelector('#df-8f335277-56da-4524-945d-bd338fa7e7bb');\n",
              "          const dataTable =\n",
              "            await google.colab.kernel.invokeFunction('convertToInteractive',\n",
              "                                                     [key], {});\n",
              "          if (!dataTable) return;\n",
              "\n",
              "          const docLinkHtml = 'Like what you see? Visit the ' +\n",
              "            '<a target=\"_blank\" href=https://colab.research.google.com/notebooks/data_table.ipynb>data table notebook</a>'\n",
              "            + ' to learn more about interactive tables.';\n",
              "          element.innerHTML = '';\n",
              "          dataTable['output_type'] = 'display_data';\n",
              "          await google.colab.output.renderOutput(dataTable, element);\n",
              "          const docLink = document.createElement('div');\n",
              "          docLink.innerHTML = docLinkHtml;\n",
              "          element.appendChild(docLink);\n",
              "        }\n",
              "      </script>\n",
              "    </div>\n",
              "  </div>\n",
              "  "
            ]
          },
          "metadata": {},
          "execution_count": 8
        }
      ]
    },
    {
      "cell_type": "code",
      "source": [
        "import pandas as pd\n",
        "from statsmodels.stats.outliers_influence import variance_inflation_factor\n",
        "variance=pd.DataFrame()\n",
        "variance['Columns']=vectorized_df.columns\n",
        "vectorized_df.astype(float)\n",
        "variance['Values'] = [variance_inflation_factor(vectorized_df.values, i) for i in range(vectorized_df.shape[1])]"
      ],
      "metadata": {
        "id": "l8Dh_PVXpbZ2"
      },
      "execution_count": null,
      "outputs": []
    },
    {
      "cell_type": "code",
      "source": [
        "variance.head()"
      ],
      "metadata": {
        "colab": {
          "base_uri": "https://localhost:8080/",
          "height": 206
        },
        "id": "4Okjyifrsn1V",
        "outputId": "07f7cd69-0be4-4aa9-a1de-3993b4b1cfed"
      },
      "execution_count": null,
      "outputs": [
        {
          "output_type": "execute_result",
          "data": {
            "text/plain": [
              "          Columns      Values\n",
              "0              Id    4.004379\n",
              "1  Product_Info_1   43.328756\n",
              "2  Product_Info_3   62.855906\n",
              "3  Product_Info_4    3.353211\n",
              "4  Product_Info_5  579.796266"
            ],
            "text/html": [
              "\n",
              "  <div id=\"df-cee3691f-2fb3-4f68-a053-1af44e1e6e8a\">\n",
              "    <div class=\"colab-df-container\">\n",
              "      <div>\n",
              "<style scoped>\n",
              "    .dataframe tbody tr th:only-of-type {\n",
              "        vertical-align: middle;\n",
              "    }\n",
              "\n",
              "    .dataframe tbody tr th {\n",
              "        vertical-align: top;\n",
              "    }\n",
              "\n",
              "    .dataframe thead th {\n",
              "        text-align: right;\n",
              "    }\n",
              "</style>\n",
              "<table border=\"1\" class=\"dataframe\">\n",
              "  <thead>\n",
              "    <tr style=\"text-align: right;\">\n",
              "      <th></th>\n",
              "      <th>Columns</th>\n",
              "      <th>Values</th>\n",
              "    </tr>\n",
              "  </thead>\n",
              "  <tbody>\n",
              "    <tr>\n",
              "      <th>0</th>\n",
              "      <td>Id</td>\n",
              "      <td>4.004379</td>\n",
              "    </tr>\n",
              "    <tr>\n",
              "      <th>1</th>\n",
              "      <td>Product_Info_1</td>\n",
              "      <td>43.328756</td>\n",
              "    </tr>\n",
              "    <tr>\n",
              "      <th>2</th>\n",
              "      <td>Product_Info_3</td>\n",
              "      <td>62.855906</td>\n",
              "    </tr>\n",
              "    <tr>\n",
              "      <th>3</th>\n",
              "      <td>Product_Info_4</td>\n",
              "      <td>3.353211</td>\n",
              "    </tr>\n",
              "    <tr>\n",
              "      <th>4</th>\n",
              "      <td>Product_Info_5</td>\n",
              "      <td>579.796266</td>\n",
              "    </tr>\n",
              "  </tbody>\n",
              "</table>\n",
              "</div>\n",
              "      <button class=\"colab-df-convert\" onclick=\"convertToInteractive('df-cee3691f-2fb3-4f68-a053-1af44e1e6e8a')\"\n",
              "              title=\"Convert this dataframe to an interactive table.\"\n",
              "              style=\"display:none;\">\n",
              "        \n",
              "  <svg xmlns=\"http://www.w3.org/2000/svg\" height=\"24px\"viewBox=\"0 0 24 24\"\n",
              "       width=\"24px\">\n",
              "    <path d=\"M0 0h24v24H0V0z\" fill=\"none\"/>\n",
              "    <path d=\"M18.56 5.44l.94 2.06.94-2.06 2.06-.94-2.06-.94-.94-2.06-.94 2.06-2.06.94zm-11 1L8.5 8.5l.94-2.06 2.06-.94-2.06-.94L8.5 2.5l-.94 2.06-2.06.94zm10 10l.94 2.06.94-2.06 2.06-.94-2.06-.94-.94-2.06-.94 2.06-2.06.94z\"/><path d=\"M17.41 7.96l-1.37-1.37c-.4-.4-.92-.59-1.43-.59-.52 0-1.04.2-1.43.59L10.3 9.45l-7.72 7.72c-.78.78-.78 2.05 0 2.83L4 21.41c.39.39.9.59 1.41.59.51 0 1.02-.2 1.41-.59l7.78-7.78 2.81-2.81c.8-.78.8-2.07 0-2.86zM5.41 20L4 18.59l7.72-7.72 1.47 1.35L5.41 20z\"/>\n",
              "  </svg>\n",
              "      </button>\n",
              "      \n",
              "  <style>\n",
              "    .colab-df-container {\n",
              "      display:flex;\n",
              "      flex-wrap:wrap;\n",
              "      gap: 12px;\n",
              "    }\n",
              "\n",
              "    .colab-df-convert {\n",
              "      background-color: #E8F0FE;\n",
              "      border: none;\n",
              "      border-radius: 50%;\n",
              "      cursor: pointer;\n",
              "      display: none;\n",
              "      fill: #1967D2;\n",
              "      height: 32px;\n",
              "      padding: 0 0 0 0;\n",
              "      width: 32px;\n",
              "    }\n",
              "\n",
              "    .colab-df-convert:hover {\n",
              "      background-color: #E2EBFA;\n",
              "      box-shadow: 0px 1px 2px rgba(60, 64, 67, 0.3), 0px 1px 3px 1px rgba(60, 64, 67, 0.15);\n",
              "      fill: #174EA6;\n",
              "    }\n",
              "\n",
              "    [theme=dark] .colab-df-convert {\n",
              "      background-color: #3B4455;\n",
              "      fill: #D2E3FC;\n",
              "    }\n",
              "\n",
              "    [theme=dark] .colab-df-convert:hover {\n",
              "      background-color: #434B5C;\n",
              "      box-shadow: 0px 1px 3px 1px rgba(0, 0, 0, 0.15);\n",
              "      filter: drop-shadow(0px 1px 2px rgba(0, 0, 0, 0.3));\n",
              "      fill: #FFFFFF;\n",
              "    }\n",
              "  </style>\n",
              "\n",
              "      <script>\n",
              "        const buttonEl =\n",
              "          document.querySelector('#df-cee3691f-2fb3-4f68-a053-1af44e1e6e8a button.colab-df-convert');\n",
              "        buttonEl.style.display =\n",
              "          google.colab.kernel.accessAllowed ? 'block' : 'none';\n",
              "\n",
              "        async function convertToInteractive(key) {\n",
              "          const element = document.querySelector('#df-cee3691f-2fb3-4f68-a053-1af44e1e6e8a');\n",
              "          const dataTable =\n",
              "            await google.colab.kernel.invokeFunction('convertToInteractive',\n",
              "                                                     [key], {});\n",
              "          if (!dataTable) return;\n",
              "\n",
              "          const docLinkHtml = 'Like what you see? Visit the ' +\n",
              "            '<a target=\"_blank\" href=https://colab.research.google.com/notebooks/data_table.ipynb>data table notebook</a>'\n",
              "            + ' to learn more about interactive tables.';\n",
              "          element.innerHTML = '';\n",
              "          dataTable['output_type'] = 'display_data';\n",
              "          await google.colab.output.renderOutput(dataTable, element);\n",
              "          const docLink = document.createElement('div');\n",
              "          docLink.innerHTML = docLinkHtml;\n",
              "          element.appendChild(docLink);\n",
              "        }\n",
              "      </script>\n",
              "    </div>\n",
              "  </div>\n",
              "  "
            ]
          },
          "metadata": {},
          "execution_count": 10
        }
      ]
    },
    {
      "cell_type": "markdown",
      "source": [
        "• Single out three input variables that are most relevant to predicting the output variable"
      ],
      "metadata": {
        "id": "-JiSsmE6suYD"
      }
    },
    {
      "cell_type": "code",
      "source": [
        "relevent_var=variance.sort_values('Values',ascending=False)\n",
        "relevent_var.head(3)"
      ],
      "metadata": {
        "colab": {
          "base_uri": "https://localhost:8080/",
          "height": 143
        },
        "id": "obIlYrSxsvEE",
        "outputId": "33c6d845-8a07-4b52-ae8b-7439416c2de5"
      },
      "execution_count": null,
      "outputs": [
        {
          "output_type": "execute_result",
          "data": {
            "text/plain": [
              "               Columns       Values\n",
              "42   Medical_History_6  2589.200015\n",
              "8                   Ht  2208.614325\n",
              "62  Medical_History_26  2094.508318"
            ],
            "text/html": [
              "\n",
              "  <div id=\"df-2cb93d34-9f5a-4b46-8c8d-822689fab359\">\n",
              "    <div class=\"colab-df-container\">\n",
              "      <div>\n",
              "<style scoped>\n",
              "    .dataframe tbody tr th:only-of-type {\n",
              "        vertical-align: middle;\n",
              "    }\n",
              "\n",
              "    .dataframe tbody tr th {\n",
              "        vertical-align: top;\n",
              "    }\n",
              "\n",
              "    .dataframe thead th {\n",
              "        text-align: right;\n",
              "    }\n",
              "</style>\n",
              "<table border=\"1\" class=\"dataframe\">\n",
              "  <thead>\n",
              "    <tr style=\"text-align: right;\">\n",
              "      <th></th>\n",
              "      <th>Columns</th>\n",
              "      <th>Values</th>\n",
              "    </tr>\n",
              "  </thead>\n",
              "  <tbody>\n",
              "    <tr>\n",
              "      <th>42</th>\n",
              "      <td>Medical_History_6</td>\n",
              "      <td>2589.200015</td>\n",
              "    </tr>\n",
              "    <tr>\n",
              "      <th>8</th>\n",
              "      <td>Ht</td>\n",
              "      <td>2208.614325</td>\n",
              "    </tr>\n",
              "    <tr>\n",
              "      <th>62</th>\n",
              "      <td>Medical_History_26</td>\n",
              "      <td>2094.508318</td>\n",
              "    </tr>\n",
              "  </tbody>\n",
              "</table>\n",
              "</div>\n",
              "      <button class=\"colab-df-convert\" onclick=\"convertToInteractive('df-2cb93d34-9f5a-4b46-8c8d-822689fab359')\"\n",
              "              title=\"Convert this dataframe to an interactive table.\"\n",
              "              style=\"display:none;\">\n",
              "        \n",
              "  <svg xmlns=\"http://www.w3.org/2000/svg\" height=\"24px\"viewBox=\"0 0 24 24\"\n",
              "       width=\"24px\">\n",
              "    <path d=\"M0 0h24v24H0V0z\" fill=\"none\"/>\n",
              "    <path d=\"M18.56 5.44l.94 2.06.94-2.06 2.06-.94-2.06-.94-.94-2.06-.94 2.06-2.06.94zm-11 1L8.5 8.5l.94-2.06 2.06-.94-2.06-.94L8.5 2.5l-.94 2.06-2.06.94zm10 10l.94 2.06.94-2.06 2.06-.94-2.06-.94-.94-2.06-.94 2.06-2.06.94z\"/><path d=\"M17.41 7.96l-1.37-1.37c-.4-.4-.92-.59-1.43-.59-.52 0-1.04.2-1.43.59L10.3 9.45l-7.72 7.72c-.78.78-.78 2.05 0 2.83L4 21.41c.39.39.9.59 1.41.59.51 0 1.02-.2 1.41-.59l7.78-7.78 2.81-2.81c.8-.78.8-2.07 0-2.86zM5.41 20L4 18.59l7.72-7.72 1.47 1.35L5.41 20z\"/>\n",
              "  </svg>\n",
              "      </button>\n",
              "      \n",
              "  <style>\n",
              "    .colab-df-container {\n",
              "      display:flex;\n",
              "      flex-wrap:wrap;\n",
              "      gap: 12px;\n",
              "    }\n",
              "\n",
              "    .colab-df-convert {\n",
              "      background-color: #E8F0FE;\n",
              "      border: none;\n",
              "      border-radius: 50%;\n",
              "      cursor: pointer;\n",
              "      display: none;\n",
              "      fill: #1967D2;\n",
              "      height: 32px;\n",
              "      padding: 0 0 0 0;\n",
              "      width: 32px;\n",
              "    }\n",
              "\n",
              "    .colab-df-convert:hover {\n",
              "      background-color: #E2EBFA;\n",
              "      box-shadow: 0px 1px 2px rgba(60, 64, 67, 0.3), 0px 1px 3px 1px rgba(60, 64, 67, 0.15);\n",
              "      fill: #174EA6;\n",
              "    }\n",
              "\n",
              "    [theme=dark] .colab-df-convert {\n",
              "      background-color: #3B4455;\n",
              "      fill: #D2E3FC;\n",
              "    }\n",
              "\n",
              "    [theme=dark] .colab-df-convert:hover {\n",
              "      background-color: #434B5C;\n",
              "      box-shadow: 0px 1px 3px 1px rgba(0, 0, 0, 0.15);\n",
              "      filter: drop-shadow(0px 1px 2px rgba(0, 0, 0, 0.3));\n",
              "      fill: #FFFFFF;\n",
              "    }\n",
              "  </style>\n",
              "\n",
              "      <script>\n",
              "        const buttonEl =\n",
              "          document.querySelector('#df-2cb93d34-9f5a-4b46-8c8d-822689fab359 button.colab-df-convert');\n",
              "        buttonEl.style.display =\n",
              "          google.colab.kernel.accessAllowed ? 'block' : 'none';\n",
              "\n",
              "        async function convertToInteractive(key) {\n",
              "          const element = document.querySelector('#df-2cb93d34-9f5a-4b46-8c8d-822689fab359');\n",
              "          const dataTable =\n",
              "            await google.colab.kernel.invokeFunction('convertToInteractive',\n",
              "                                                     [key], {});\n",
              "          if (!dataTable) return;\n",
              "\n",
              "          const docLinkHtml = 'Like what you see? Visit the ' +\n",
              "            '<a target=\"_blank\" href=https://colab.research.google.com/notebooks/data_table.ipynb>data table notebook</a>'\n",
              "            + ' to learn more about interactive tables.';\n",
              "          element.innerHTML = '';\n",
              "          dataTable['output_type'] = 'display_data';\n",
              "          await google.colab.output.renderOutput(dataTable, element);\n",
              "          const docLink = document.createElement('div');\n",
              "          docLink.innerHTML = docLinkHtml;\n",
              "          element.appendChild(docLink);\n",
              "        }\n",
              "      </script>\n",
              "    </div>\n",
              "  </div>\n",
              "  "
            ]
          },
          "metadata": {},
          "execution_count": 12
        }
      ]
    }
  ]
}